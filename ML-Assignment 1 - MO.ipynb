{
 "cells": [
  {
   "cell_type": "markdown",
   "metadata": {},
   "source": [
    "# Machine Learning - Assignment 1\n",
    "\n",
    "## Naive Bayes Learning algorithm, Cross-validation, and ROC-Curves"
   ]
  },
  {
   "cell_type": "markdown",
   "metadata": {},
   "source": [
    "The aim of the assignment is to implement:\n",
    "\n",
    "* Naive Bayes learning algorithm for binary classification tasks\n",
    "* Visualization to plot a ROC-curve\n",
    "* A cross-validation test\n",
    "* Visualization of the average ROC-curve of a cross-validation test\n",
    "\n",
    "Follow the instructions and implement what is missing to complete the assignment. Some functions have been started to help you a little bit with the inputs or outputs of the function.\n",
    "\n",
    "**Note:** You might need to go back and forth during your implementation of the code. The structure is set up to make implementation easier, but how you return values from the different functions might vary, and you might find yourself going back and change something to make it easier later on."
   ]
  },
  {
   "cell_type": "markdown",
   "metadata": {},
   "source": [
    "## Assignment preparations"
   ]
  },
  {
   "cell_type": "markdown",
   "metadata": {},
   "source": [
    "We help you out with importing the libraries and reading the data.\n",
    "\n",
    "Look at the output to get an idea of how the data is structured."
   ]
  },
  {
   "cell_type": "code",
   "execution_count": 35,
   "metadata": {},
   "outputs": [
    {
     "name": "stdout",
     "output_type": "stream",
     "text": [
      "Full data array (features and labels):\n",
      "[[5.1 3.5 1.4 0.2 0. ]\n",
      " [4.9 3.  1.4 0.2 0. ]\n",
      " [4.7 3.2 1.3 0.2 0. ]]\n",
      "\n",
      "###############\n",
      "\n",
      "Train features (first 4 columns):\n",
      "[[5.1 3.5 1.4 0.2]\n",
      " [4.9 3.  1.4 0.2]\n",
      " [4.7 3.2 1.3 0.2]]\n",
      "\n",
      "Labels (last column):\n",
      "[[0.]\n",
      " [0.]\n",
      " [0.]]\n",
      "\n",
      "Names of labels:\n",
      "[[0, 'Iris-setosa'], [1, 'Iris-versicolor'], [2, 'Iris-virginica']]\n"
     ]
    }
   ],
   "source": [
    "import numpy as np\n",
    "import pandas as pd\n",
    "import matplotlib.pyplot as plt\n",
    "\n",
    "from math import e, pi, sqrt\n",
    "\n",
    "data = pd.read_csv(\"iris.csv\").to_numpy()\n",
    "mapped, index, unique_arr = np.unique(data[:, -1], return_index=True, return_inverse=True)\n",
    "data[:, -1] = unique_arr\n",
    "iris_setosa, iris_versicolor, iris_virginica = np.split(data, index[1:])\n",
    "iris_setosa, iris_versicolor, iris_virginica = iris_setosa.astype(np.float64), iris_versicolor.astype(np.float64), iris_virginica.astype(np.float64)\n",
    "\n",
    "print(f\"Full data array (features and labels):\\n{iris_setosa[:3]}\\n\")\n",
    "print(\"###############\\n\")\n",
    "print(f\"Train features (first 4 columns):\\n{iris_setosa[:3, :-1]}\\n\")\n",
    "print(f\"Labels (last column):\\n{iris_setosa[:3, -1:]}\\n\")\n",
    "print(f\"Names of labels:\\n{[[numb, name] for numb, name in enumerate(mapped)]}\")"
   ]
  },
  {
   "cell_type": "code",
   "execution_count": 36,
   "metadata": {},
   "outputs": [
    {
     "data": {
      "text/plain": [
       "array([[5.1, 3.5, 1.4, 0.2, 0. ],\n",
       "       [4.9, 3. , 1.4, 0.2, 0. ],\n",
       "       [4.7, 3.2, 1.3, 0.2, 0. ]])"
      ]
     },
     "execution_count": 36,
     "metadata": {},
     "output_type": "execute_result"
    }
   ],
   "source": [
    "# Example print of the 3 first datapoints (similar as above):\n",
    "iris_setosa[:3]"
   ]
  },
  {
   "cell_type": "markdown",
   "metadata": {},
   "source": [
    "## Data handling functions\n",
    "\n",
    "As a start, we are going to implement some basic data handling functions to use in the future."
   ]
  },
  {
   "cell_type": "markdown",
   "metadata": {},
   "source": [
    "### 1) Split class into a train and test set\n",
    "\n",
    "First, we need to be able to split the class into a train and test set."
   ]
  },
  {
   "cell_type": "code",
   "execution_count": 53,
   "metadata": {},
   "outputs": [],
   "source": [
    "def train_test_split(class_data, perc=0.8):\n",
    "    \n",
    "    # TODO: Split the data into two parts, train and test.\n",
    "    # Numpy has some functionallity that makes implementing this part easier.\n",
    "\n",
    "    np.random.shuffle(class_data)\n",
    "\n",
    "    split_idx = round(class_data.shape[0]*(perc))\n",
    "\n",
    "    train = class_data[:split_idx]\n",
    "    test  = class_data[split_idx:] \n",
    "\n",
    "    return train, test"
   ]
  },
  {
   "cell_type": "code",
   "execution_count": 54,
   "metadata": {},
   "outputs": [
    {
     "name": "stdout",
     "output_type": "stream",
     "text": [
      "40\n",
      "10\n"
     ]
    }
   ],
   "source": [
    "# TODO: Test the train_test_split function\n",
    "train, test = train_test_split(iris_setosa)\n",
    "\n",
    "# TODO: Print the output\n",
    "print(len(train))\n",
    "print(len(test))"
   ]
  },
  {
   "cell_type": "markdown",
   "metadata": {},
   "source": [
    "### 2) Split data into features and labels\n",
    "\n",
    "The data as shown above is not always the optimal shape. To help us keep track of things, we can split the data into its features and labels seperately.\n",
    "\n",
    "Each class is 4 features and 1 label in the same array: \n",
    "\n",
    "* **[feature 1, feature 2, feature 3, feature 4, label]**\n",
    "\n",
    "It would help us later to have the features and labels in seperate arrays in the form: \n",
    "\n",
    "* **[feature 1, feature 2, feature 3, feature 4]** and **[label]**\n",
    "\n",
    "Here you are going to implement this functionallity."
   ]
  },
  {
   "cell_type": "code",
   "execution_count": 39,
   "metadata": {},
   "outputs": [],
   "source": [
    "def class_split(data):\n",
    "\n",
    "    # TODO: Split one class into its features and labels\n",
    "    features = data[:, :-1].astype(np.float64)\n",
    "    labels = data[:, -1].astype(np.float64)\n",
    "    \n",
    "    return features, labels"
   ]
  },
  {
   "cell_type": "markdown",
   "metadata": {},
   "source": [
    "We should first test the \"**class_split**\" function on one of the classes above (iris_setosa, etc...) to make sure it works properly."
   ]
  },
  {
   "cell_type": "code",
   "execution_count": 40,
   "metadata": {},
   "outputs": [
    {
     "name": "stdout",
     "output_type": "stream",
     "text": [
      "(50, 4) (50,)\n"
     ]
    }
   ],
   "source": [
    "# TODO: Test the class splitting function\n",
    "features, labels = class_split(iris_virginica)\n",
    "\n",
    "# TODO: Print the output\n",
    "print(features.shape, labels.shape)"
   ]
  },
  {
   "cell_type": "markdown",
   "metadata": {},
   "source": [
    "We should also try to **1)** first split a class into a train and test set, **2)** split each of these two into features and abels. In total there should be 4 arrays (2 feature and 2 label arrays)."
   ]
  },
  {
   "cell_type": "code",
   "execution_count": 41,
   "metadata": {},
   "outputs": [
    {
     "name": "stdout",
     "output_type": "stream",
     "text": [
      "(50, 4)\n",
      "(50,)\n",
      "(50, 4)\n",
      "(50,)\n"
     ]
    }
   ],
   "source": [
    "# TODO: Use the above data handling functions to make 2 feature arrays and 2 label arrays. \n",
    "X_iris_setosa, labels_iris_setosa = class_split(iris_setosa)\n",
    "X_iris_virginica, labels_iris_virginica = class_split(iris_virginica)\n",
    "\n",
    "# TODO: Print the output (you may use multiple print-statements if you wish)\n",
    "print(X_iris_setosa.shape)\n",
    "print(labels_iris_setosa.shape)\n",
    "print(X_iris_virginica.shape)\n",
    "print(labels_iris_virginica.shape)"
   ]
  },
  {
   "cell_type": "markdown",
   "metadata": {},
   "source": [
    "Think a bit before going to the next task, what can easily go wrong in the above code?"
   ]
  },
  {
   "cell_type": "markdown",
   "metadata": {},
   "source": [
    "## Naive Bayes learning algorithm"
   ]
  },
  {
   "cell_type": "markdown",
   "metadata": {},
   "source": [
    "When implementing the Navie Bayes learning algorithm, we can break it down into a few components.\n",
    "\n",
    "We will implement these components one at a time."
   ]
  },
  {
   "cell_type": "markdown",
   "metadata": {},
   "source": [
    "### 3) Calculate feature statistics\n",
    "\n",
    "First, we need to implement a function that returns feature statistics (means, standard deviation, priors) for a given set of feature data for a single class. This is the equivalent of \"training\" the naive bayes model.\n",
    "\n",
    "**Note 1:** Each feature gets its own mean and standard deviation!\n",
    "\n",
    "**Note 2:** The way you structure the functions (what is returned) shapes the remainder of the assignment."
   ]
  },
  {
   "cell_type": "code",
   "execution_count": 55,
   "metadata": {},
   "outputs": [],
   "source": [
    "def calculate_feature_statistics(feature_data):\n",
    "\n",
    "    # TODO: Complete this function so that it returns the feature statistics for the input data.\n",
    "    features_mean = np.mean(feature_data, axis=0)  \n",
    "    features_std = np.std(feature_data, axis=0)    \n",
    "    return features_mean, features_std # You choose how you return the statistics"
   ]
  },
  {
   "cell_type": "markdown",
   "metadata": {},
   "source": [
    "To make sure the function works, we should test it before proceding."
   ]
  },
  {
   "cell_type": "code",
   "execution_count": 56,
   "metadata": {},
   "outputs": [
    {
     "name": "stdout",
     "output_type": "stream",
     "text": [
      "[5.006 3.418 1.464 0.244] [0.34894699 0.37719491 0.17176728 0.10613199]\n",
      "[6.588 2.974 5.552 2.026] [0.62948868 0.31925538 0.54634787 0.27188968]\n"
     ]
    }
   ],
   "source": [
    "# TODO: Make sure to use our previous class splitting function.\n",
    "\n",
    "# TODO: Test the function here for one of the dataset classes. \n",
    "iris_setosa_mean, iris_setosa_stddev = calculate_feature_statistics(X_iris_setosa)\n",
    "iris_virginica_mean, iris_virginica_stddev = calculate_feature_statistics(X_iris_virginica)\n",
    "\n",
    "# TODO: Print the output from the feature statistic function.\n",
    "print(iris_setosa_mean, iris_setosa_stddev) \n",
    "print(iris_virginica_mean, iris_virginica_stddev) "
   ]
  },
  {
   "cell_type": "markdown",
   "metadata": {},
   "source": [
    "### 4) Gaussian probability density function (Gaussian PDF)\n",
    "\n",
    "Now we need to implement the gaussian probability density function to use for a single datapoint.\n",
    "\n",
    "**Note:** Look at the imports in the first cell at the top, it has some math numbers for easy use here. "
   ]
  },
  {
   "cell_type": "code",
   "execution_count": 57,
   "metadata": {},
   "outputs": [],
   "source": [
    "def gaussian_probability_density_function(x, means, stdevs):\n",
    "    # TODO: Implement the gaussian probability density function.\n",
    "    if np.any(stdevs <= 0):\n",
    "        raise ValueError(\"Stand Deviation MUST be > 0\")\n",
    "\n",
    "    C =  1 / (stdevs * sqrt(2*pi))\n",
    "    exp = -0.5 * (((x - means) / (stdevs)) ** 2)\n",
    "    prob_density = C*e**(exp)\n",
    "    \n",
    "    return prob_density"
   ]
  },
  {
   "cell_type": "markdown",
   "metadata": {},
   "source": [
    "### 5) Testing Gaussian PDF"
   ]
  },
  {
   "cell_type": "markdown",
   "metadata": {},
   "source": [
    "We should test it to make sure it works. Train it, using the \"calculate_feature_statistics\" function, on one of the dataset classes. Then, take one datapoint from the same class and use naive bayes gaussian to make a prediction."
   ]
  },
  {
   "cell_type": "code",
   "execution_count": 64,
   "metadata": {},
   "outputs": [
    {
     "name": "stdout",
     "output_type": "stream",
     "text": [
      "[1.16044639 0.61252403 2.34238971 3.24736101]\n"
     ]
    }
   ],
   "source": [
    "# TODO: Implement the code below to test the \"gaussian_probability_density_function\" function for one of the classes.\n",
    "iris_setosa_train, iris_setosa_test = train_test_split(iris_setosa)\n",
    "X_iris_setosa_train, labels_iris_setosa_train = class_split(iris_setosa_train)\n",
    "X_iris_setosa_test, labels_iris_setosa_test = class_split(iris_setosa_test)\n",
    "X_iris_setosa_train_means, X_iris_setosa_train_stddevs = calculate_feature_statistics(X_iris_setosa_train)\n",
    "\n",
    "# TODO: Test with one datapoint from the learned class.\n",
    "pb_pos = gaussian_probability_density_function(X_iris_setosa_test[0], X_iris_setosa_train_means, X_iris_setosa_train_stddevs)\n",
    "\n",
    "# TODO: Print the probability density\n",
    "print(pb_pos)"
   ]
  },
  {
   "cell_type": "markdown",
   "metadata": {},
   "source": [
    "As a test, take one datapoint from one of the other classes and see if the predicted probability changes."
   ]
  },
  {
   "cell_type": "code",
   "execution_count": 61,
   "metadata": {},
   "outputs": [
    {
     "name": "stdout",
     "output_type": "stream",
     "text": [
      "[1.76453037e-003 1.13719516e+000 7.68370286e-167 4.25300914e-106]\n"
     ]
    }
   ],
   "source": [
    "# TODO: Take one datapoint from one of the other classes.\n",
    "X_iris_virginica, labels_iris_virginica = class_split(iris_virginica)\n",
    "other_class_datapoint = X_iris_virginica[0]\n",
    "\n",
    "# TODO: Use naive bayes gaussian on this datapoint with the same feature statistics as the first class.\n",
    "pb_neg = gaussian_probability_density_function(other_class_datapoint, X_iris_setosa_train_means, X_iris_setosa_train_stddevs)\n",
    "\n",
    "# TODO: Print the probability\n",
    "print(pb_neg)"
   ]
  },
  {
   "cell_type": "markdown",
   "metadata": {},
   "source": [
    "Think a bit why the probability changes, what could affect the prediction?"
   ]
  },
  {
   "cell_type": "markdown",
   "metadata": {},
   "source": [
    "## Prepare Naive Bayes for binary classification"
   ]
  },
  {
   "cell_type": "markdown",
   "metadata": {},
   "source": [
    "### 6) Prepare the data for inference\n",
    "\n",
    "Before we train and test the naive bayes for multiple classes, we should get our data in order.\n",
    "\n",
    "Similar to how we did previously, we should now split two classes into a train and test set, you may choose which two classes freely."
   ]
  },
  {
   "cell_type": "code",
   "execution_count": 65,
   "metadata": {},
   "outputs": [],
   "source": [
    "# TODO: Split two classes into train and test sets.\n",
    "train_is, test_is = train_test_split(iris_setosa)\n",
    "train_iv, test_iv = train_test_split(iris_virginica)\n",
    "\n",
    "# TODO: Sepearte the features and lables for both the train and test set.\n",
    "X_train_is, y_train_is = class_split(train_is)\n",
    "X_test_is, y_test_is = class_split(test_is)\n",
    "X_train_iv, y_train_iv = class_split(train_iv)\n",
    "X_test_iv, y_test_iv = class_split(test_iv)"
   ]
  },
  {
   "cell_type": "markdown",
   "metadata": {},
   "source": [
    "### 7) Class A vs Class B for binary classification\n",
    "\n",
    "**Note:** You might need to go back and forth a bit in the following cells during your implementation of your code.\n",
    "\n",
    "We have to get the probability from two sets of classes and compare the two probabilities in order to make a propper prediction.\n",
    "\n",
    "Here we will implement two functions to make this possible. We seperate these functions to make the implementation of the ROC-curve easier later on.\n",
    "\n",
    "**Function 1: naive_bayes_prediction** \n",
    "* A function that returns the probabilities for each class the model for a single datapoint.\n",
    "\n",
    "**Function 2: probabilities_to_prediction**\n",
    "* A function that takes in probabilities and returns a prediction."
   ]
  },
  {
   "cell_type": "code",
   "execution_count": 73,
   "metadata": {},
   "outputs": [],
   "source": [
    "def naive_bayes_prediction(feature_stats, data_point):\n",
    "\n",
    "    # TODO: Implement the rest of this function. Make use of previous functions that you have implemented.\n",
    "    prediction_pds = []\n",
    "    for feature_stat in feature_stats:\n",
    "        mean, stddev = feature_stat\n",
    "        pd = gaussian_probability_density_function(data_point, mean, stddev)\n",
    "        prediction_pds.append(np.prod(pd))\n",
    "\n",
    "    prediction_probabilities = prediction_pds / np.sum(prediction_pds)\n",
    "\n",
    "    # Note: We need to compare the probabilities at some point between the classes we test on, the predicted class should be the class with the highest probability.\n",
    "    return prediction_probabilities"
   ]
  },
  {
   "cell_type": "code",
   "execution_count": 265,
   "metadata": {},
   "outputs": [],
   "source": [
    "def probabilities_to_prediction(probabilities):\n",
    "\n",
    "    # TODO: Implement prediction of the class with the highest probability\n",
    "    return np.argmax(probabilities)"
   ]
  },
  {
   "cell_type": "markdown",
   "metadata": {},
   "source": [
    "To test the function we need the feature metrics from the classes we choose. \n",
    "\n",
    "**Note:** Choose the correct train/test set and the correct feature/label split!"
   ]
  },
  {
   "cell_type": "code",
   "execution_count": 75,
   "metadata": {},
   "outputs": [],
   "source": [
    "# TODO: Get the feature metrics for the classes.\n",
    "is_mean, is_stddev = calculate_feature_statistics(X_train_is)\n",
    "iv_mean, iv_stddev = calculate_feature_statistics(X_train_iv)"
   ]
  },
  {
   "cell_type": "markdown",
   "metadata": {},
   "source": [
    "Now we should have implemented all the neccessary parts to train a naive bayes algorithm and do inference on it. Implement a small test workflow for two of your chosen classes."
   ]
  },
  {
   "cell_type": "code",
   "execution_count": 81,
   "metadata": {},
   "outputs": [
    {
     "name": "stdout",
     "output_type": "stream",
     "text": [
      "Probabilities [1.00000000e+00 2.00985228e-25]\n",
      "Prediction Class: Iris Setosa\n"
     ]
    }
   ],
   "source": [
    "# TODO: Test the \"naive_bayes_prediction\" function and implement all neccessary code for it to work.\n",
    "feature_stats = [(is_mean, is_stddev), (iv_mean, iv_stddev)]\n",
    "probabilities = naive_bayes_prediction(feature_stats, X_test_is[0])\n",
    "print('Probabilities', probabilities)\n",
    "\n",
    "# TODO: Print the predicted class and the actual class for the test set\n",
    "print('Prediction Class:', probabilities_to_prediction(probabilities))"
   ]
  },
  {
   "cell_type": "markdown",
   "metadata": {},
   "source": [
    "## ROC-curve\n",
    "\n",
    "A ROC curve, or *Receiver Operating Characteristic curve*, is a graphical plot that illustrates the performance of a binary classifier such as our Naive Bayes model.\n",
    "\n",
    "More info can be found in the course material and here: [https://en.wikipedia.org/wiki/Receiver_operating_characteristic](https://en.wikipedia.org/wiki/Receiver_operating_characteristic)\n",
    "\n",
    "Another good illustration by Google can be found here: [https://developers.google.com/machine-learning/crash-course/classification/roc-and-auc](https://developers.google.com/machine-learning/crash-course/classification/roc-and-auc)\n",
    "\n",
    "Now that we have a prediction model, we would want to try it out and test it using a ROC-curve."
   ]
  },
  {
   "cell_type": "markdown",
   "metadata": {},
   "source": [
    "### 8) True Positive Rate (TPR) and False Positive Rate (FPR)\n",
    "\n",
    "From our prediction function we get probabilities, and for prediction purposes we have just predicted the one with the highest probability.\n",
    "\n",
    "To plot a ROC-curve, we need the TPR and FPR for the binary classification. We will implement this here.\n",
    "\n",
    "**Note 1:** The threshold is is a value that goes from 0 to 1. \n",
    "\n",
    "**Note 2:** One of the two classes will be seen as \"the positive class\" (prediction over the threshold) and the other as \"the negative class\" (prediction under the threshold).\n",
    "\n",
    "**Note 3:** The threshold stepsize will decide the size of the returned TPR/FPR list. A value of 0.1 will give 10 elements (0 to 1 in increments of 0.1)"
   ]
  },
  {
   "cell_type": "code",
   "execution_count": 11,
   "metadata": {},
   "outputs": [
    {
     "name": "stdout",
     "output_type": "stream",
     "text": [
      "Python list: [0.0, 0.1, 0.2, 0.3, 0.4, 0.5, 0.6, 0.7, 0.8, 0.9]\n",
      "Numpy linspace: [0.  0.1 0.2 0.3 0.4 0.5 0.6 0.7 0.8 0.9 1. ]\n",
      "Numpy linspace (no endpoint): [0.  0.1 0.2 0.3 0.4 0.5 0.6 0.7 0.8 0.9]\n"
     ]
    }
   ],
   "source": [
    "# Stepsize demonstration\n",
    "print(\"Python list:\", [x/10 for x in range(0,10,1)])\n",
    "\n",
    "# Stepsize demonstration with numpy:\n",
    "print(\"Numpy linspace:\", np.linspace(0,1,11))\n",
    "print(\"Numpy linspace (no endpoint):\", np.linspace(0,1,10,endpoint=False))"
   ]
  },
  {
   "cell_type": "code",
   "execution_count": 284,
   "metadata": {},
   "outputs": [],
   "source": [
    "import numpy as np\n",
    "\n",
    "def TPR_and_FPR(prediction_probabilities, test_labels, pos_and_neg, threshold_stepsize=0.1):\n",
    "    assert len(prediction_probabilities) == len(test_labels), \"Mismatch in input array sizes.\"\n",
    "    assert 0 < threshold_stepsize <= 1, \"Invalid threshold stepsize.\"\n",
    "\n",
    "    cs = np.arange(0, 1 + threshold_stepsize, threshold_stepsize)\n",
    "    tp, fn, fp, tn = (np.zeros(len(cs)) for _ in range(4))\n",
    "    for i, c in enumerate(cs):\n",
    "        tp[i] = np.sum((prediction_probabilities > c) & (test_labels == pos_and_neg[0]))\n",
    "        fn[i] = np.sum((prediction_probabilities <= c) & (test_labels == pos_and_neg[0]))\n",
    "        fp[i] = np.sum((prediction_probabilities >= c) & (test_labels == pos_and_neg[1]))\n",
    "        tn[i] = np.sum((prediction_probabilities < c) & (test_labels == pos_and_neg[1]))\n",
    "\n",
    "    tpr = tp / (tp + fn)\n",
    "    fpr = fp / (fp + tn)\n",
    "\n",
    "    return tpr, fpr"
   ]
  },
  {
   "cell_type": "markdown",
   "metadata": {},
   "source": [
    "How does the values change if you change the threshold stepsize? \n",
    "\n",
    "How does the values change if you change the classes you compare?"
   ]
  },
  {
   "cell_type": "markdown",
   "metadata": {},
   "source": [
    "### 9) Plot the TPR and FPR\n",
    "\n",
    "To better see what is going on, we can plot the TPR and FPR. We can also calculate the Area Under the ROC Curve (AUC or AUROC) at the same time."
   ]
  },
  {
   "cell_type": "code",
   "execution_count": 298,
   "metadata": {},
   "outputs": [],
   "source": [
    "def plot_ROC(TPR, FPR, graph_labels):\n",
    "\n",
    "    # TODO: Calculate the AUC score.\n",
    "    sorted_indices = np.argsort(FPR)  \n",
    "    FPR_sorted = FPR[sorted_indices]\n",
    "    TPR_sorted = TPR[sorted_indices]\n",
    "    AUC = round(np.trapezoid(y=TPR_sorted, x=FPR_sorted),2) \n",
    "    print(\"Area Under the Curve (AUC):\", AUC)\n",
    "\n",
    "    # TODO: Plot the TPR and FPR using plt (matplotlib)\n",
    "    plt.plot(np.array([0, 1]), np.array([0, 1]), color='k', ls='--', lw='1')\n",
    "    plt.xlabel('FPR')\n",
    "    plt.ylabel('TPR')\n",
    "    plt.title(f\"ROC $[AUC={AUC}]$: ${graph_labels[0]}$ $vs$. ${graph_labels[1]}$\", fontsize=16, fontweight='bold')\n",
    "    plt.grid(True)\n",
    "\n",
    "    # TODO: Add a \"middle-line\" in the plot. This can be seen as the \"better/worse than random\" line.\n",
    "    plt.plot(FPR, TPR, color='r', ls='-', lw='1')\n",
    "\n",
    "    plt.show()\n",
    "\n",
    "\n",
    "    pass # No need to return anything, remove this line once you are finished implementing."
   ]
  },
  {
   "cell_type": "code",
   "execution_count": 204,
   "metadata": {},
   "outputs": [],
   "source": [
    "# TODO: Test the plotting function on the TPR and FPR you just calculated."
   ]
  },
  {
   "cell_type": "code",
   "execution_count": 297,
   "metadata": {},
   "outputs": [
    {
     "name": "stdout",
     "output_type": "stream",
     "text": [
      "Area Under the Curve (AUC): 1.0\n"
     ]
    },
    {
     "data": {
      "image/png": "[encoded data removed]",
      "text/plain": [
       "<Figure size 640x480 with 1 Axes>"
      ]
     },
     "metadata": {},
     "output_type": "display_data"
    }
   ],
   "source": [
    "data = pd.read_csv(\"iris.csv\").to_numpy()\n",
    "mapped, index, unique_arr = np.unique(data[:, -1], return_index=True, return_inverse=True)\n",
    "data[:, -1] = unique_arr\n",
    "iris_setosa, iris_versicolor, iris_virginica = np.split(data, index[1:])\n",
    "iris_setosa, iris_versicolor, iris_virginica = iris_setosa.astype(np.float64), iris_versicolor.astype(np.float64), iris_virginica.astype(np.float64)\n",
    "\n",
    "train_is, test_is = train_test_split(iris_setosa)\n",
    "train_iv, test_iv = train_test_split(iris_virginica)\n",
    "\n",
    "X_train_is, y_train_is = class_split(train_is)\n",
    "X_test_is, y_test_is = class_split(test_is)\n",
    "X_train_iv, y_train_iv = class_split(train_iv)\n",
    "X_test_iv, y_test_iv = class_split(test_iv)\n",
    "\n",
    "is_mean, is_stddev = calculate_feature_statistics(X_train_is)\n",
    "iv_mean, iv_stddev = calculate_feature_statistics(X_train_iv)\n",
    "\n",
    "feature_stats = [(is_mean, is_stddev), (iv_mean, iv_stddev)]\n",
    "X_test_combined = np.vstack([X_test_is, X_test_iv])  \n",
    "y_test_combined = np.hstack([y_test_is, y_test_iv])  \n",
    "\n",
    "probabilities = []\n",
    "for sample in X_test_combined:\n",
    "    class_probs = naive_bayes_prediction(feature_stats, sample)\n",
    "    probabilities.append(class_probs)  \n",
    "\n",
    "TPR, FPR = TPR_and_FPR(np.array(probabilities)[:, 0], y_test_combined,  np.array([0, 2]), threshold_stepsize=0.1)\n",
    "plot_ROC(TPR, FPR, ['Setosa', 'Virgnica'])"
   ]
  },
  {
   "cell_type": "markdown",
   "metadata": {},
   "source": [
    "## Cross-validation\n",
    "\n",
    "The final task is to take everything you have implemented so far and apply it in a cross-validation loop.\n",
    "\n",
    "**Note 1:** To better reflect a real scenarios, you should shuffle the data before doing cross-validation.\n",
    "\n",
    "**Note 2:** When using cross-validation, the interesting thing is the mean performance (mean AUC, mean accuracy, mean ROC-curve).\n",
    "\n",
    "**Note 3:** This part is a bit more free in terms of implementation, but make sure to use some of the previously implemented functions."
   ]
  },
  {
   "cell_type": "markdown",
   "metadata": {},
   "source": [
    "### 10) Cross-validation loop"
   ]
  },
  {
   "cell_type": "code",
   "execution_count": 248,
   "metadata": {},
   "outputs": [],
   "source": [
    "import numpy as np\n",
    "\n",
    "def KFoldCrossValidation(data, k):\n",
    "    arr = []\n",
    "    total_indices = len(data)\n",
    "    labels = data[:, -1]\n",
    "    unique_labels, _ = np.unique(labels, return_counts=True)\n",
    "    label_to_indices = {label: np.where(labels == label)[0] for label in unique_labels}\n",
    "\n",
    "    for label in label_to_indices:\n",
    "        np.random.shuffle(label_to_indices[label])\n",
    "\n",
    "    # Splits each class into 10 folds\n",
    "    folds = {label: np.array_split(label_to_indices[label], k) for label in unique_labels}\n",
    "\n",
    "    for i in range(k):\n",
    "        test_indices = []\n",
    "        for label in unique_labels:\n",
    "            test_indices.extend(folds[label][i])\n",
    "\n",
    "        test_indices = np.array(test_indices)\n",
    "        train_indices = np.setdiff1d(np.arange(total_indices), test_indices)\n",
    "\n",
    "        train_array = data[train_indices]\n",
    "        test_array = data[test_indices]\n",
    "\n",
    "        arr.append((train_array, test_array))\n",
    "\n",
    "    return arr"
   ]
  },
  {
   "cell_type": "code",
   "execution_count": 218,
   "metadata": {},
   "outputs": [],
   "source": [
    "def cross_validation(data, target, folds = 10, threshold_stepsize = 0.1):\n",
    "\n",
    "    # TODO: Implement Cross-validation\n",
    "    \n",
    "    # for i in range(folds):\n",
    "\n",
    "\n",
    "        ...\n",
    "\n",
    "    # TODO: Plot the average ROC-curve.\n",
    "    # NOTE: Take the correct average!\n",
    "\n",
    "    # plot_ROC(TPR_avg, FPR_avg)\n",
    "\n",
    "cross_validation(X_test_combined, y_test_combined, folds=10, threshold_stepsize=0.1)"
   ]
  },
  {
   "cell_type": "markdown",
   "metadata": {},
   "source": [
    "### 11) 10-fold Cross-validation on all classes\n",
    "\n",
    "Test the \"cross_validation\" function on all the classes against eachother using 10 folds.\n",
    "\n",
    "* Iris-setosa vs Iris-versicolor\n",
    "* Iris-setosa vs Iris-virginica\n",
    "* Iris-versicolor vs Iris-virginica"
   ]
  },
  {
   "cell_type": "code",
   "execution_count": 295,
   "metadata": {},
   "outputs": [
    {
     "name": "stdout",
     "output_type": "stream",
     "text": [
      "Area Under the Curve (AUC): 1.0\n"
     ]
    },
    {
     "data": {
      "image/png": "[encoded data removed]",
      "text/plain": [
       "<Figure size 640x480 with 1 Axes>"
      ]
     },
     "metadata": {},
     "output_type": "display_data"
    }
   ],
   "source": [
    "# TODO: Implement and test cross-validation function on all classes.\n",
    "data = pd.read_csv(\"iris.csv\").to_numpy()\n",
    "mapped, index, unique_arr = np.unique(data[:, -1], return_index=True, return_inverse=True)\n",
    "data[:, -1] = unique_arr\n",
    "iris_setosa, iris_versicolor, iris_virginica = np.split(data, index[1:])\n",
    "iris_setosa, iris_versicolor, iris_virginica = iris_setosa.astype(np.float64), iris_versicolor.astype(np.float64), iris_virginica.astype(np.float64)\n",
    "\n",
    "data_isic = np.vstack([iris_setosa, iris_versicolor])\n",
    "data_isiv = np.vstack([iris_setosa, iris_virginica])\n",
    "data_iciv = np.vstack([iris_versicolor, iris_virginica])\n",
    "\n",
    "kfold_data_isic = KFoldCrossValidation(data_isic, k=10)\n",
    "kfold_data_isiv = KFoldCrossValidation(data_isiv, k=10)\n",
    "kfold_data_iciv = KFoldCrossValidation(data_iciv, k=10)\n",
    "\n",
    "nr_to_classes = {\n",
    "    0: 'Setosa',\n",
    "    1: 'Versicolor',\n",
    "    2: 'Virginica'\n",
    "}\n",
    "\n",
    "def compute(class_POS, class_NEG, kfold_data):\n",
    "    TPRs, FPRs = [], []\n",
    "    for i in range(len(kfold_data)):\n",
    "        train, test = kfold_data[i]\n",
    "        train_POS = train[train[:, -1] == class_POS]\n",
    "        train_NEG = train[train[:, -1] == class_NEG]\n",
    "        test_POS = test[test[:, -1] == class_POS]\n",
    "        test_NEG = test[test[:, -1] == class_NEG]\n",
    "\n",
    "        X_train_POS, _ = class_split(train_POS)\n",
    "        X_train_NEG, _ = class_split(train_NEG)\n",
    "        X_test_POS, y_test_POS = class_split(test_POS)\n",
    "        X_test_NEG, y_test_NEG = class_split(test_NEG)\n",
    "\n",
    "        mean_POS, stddev_POS = calculate_feature_statistics(X_train_POS)\n",
    "        mean_NEG, stddev_NEG = calculate_feature_statistics(X_train_NEG)\n",
    "\n",
    "        feature_stats = [(mean_POS, stddev_POS), (mean_NEG, stddev_NEG)]\n",
    "        X_test_combined = np.vstack([X_test_POS, X_test_NEG])\n",
    "        y_test_combined = np.hstack([y_test_POS, y_test_NEG])\n",
    "\n",
    "        probabilities = []\n",
    "        for sample in X_test_combined:\n",
    "            class_probs = naive_bayes_prediction(feature_stats, sample)\n",
    "            probabilities.append(class_probs)  \n",
    "\n",
    "        TPR, FPR = TPR_and_FPR(np.array(probabilities)[:, 0], y_test_combined, np.array([class_POS, class_NEG]), threshold_stepsize=0.1)\n",
    "        TPRs.append(TPR); FPRs.append(FPR)\n",
    "\n",
    "    mean_TPR = np.mean(TPRs, axis=0)\n",
    "    mean_FPR = np.mean(FPRs, axis=0)\n",
    "    graph_labels = [nr_to_classes[class_POS], nr_to_classes[class_NEG]]\n",
    "    plot_ROC(mean_TPR, mean_FPR, graph_labels)\n",
    "\n",
    "classes_to_nr = {\n",
    "    'iris_setosa': 0,\n",
    "    'iris_versicolor': 1,\n",
    "    'iris_virginica': 2\n",
    "}\n",
    "compute(classes_to_nr['iris_setosa'], classes_to_nr['iris_virginica'], kfold_data_isiv)"
   ]
  },
  {
   "cell_type": "code",
   "execution_count": 294,
   "metadata": {},
   "outputs": [
    {
     "name": "stdout",
     "output_type": "stream",
     "text": [
      "Area Under the Curve (AUC): 1.0\n"
     ]
    },
    {
     "data": {
      "image/png": "[encoded data removed]",
      "text/plain": [
       "<Figure size 640x480 with 1 Axes>"
      ]
     },
     "metadata": {},
     "output_type": "display_data"
    }
   ],
   "source": [
    "# TODO: Implement and test cross-validation function on all classes.\n",
    "classes_to_nr = {\n",
    "    'iris_setosa': 0,\n",
    "    'iris_versicolor': 1,\n",
    "    'iris_virginica': 2\n",
    "}\n",
    "compute(classes_to_nr['iris_setosa'], classes_to_nr['iris_versicolor'], kfold_data_isic)"
   ]
  },
  {
   "cell_type": "code",
   "execution_count": 299,
   "metadata": {},
   "outputs": [
    {
     "name": "stdout",
     "output_type": "stream",
     "text": [
      "Area Under the Curve (AUC): 0.95\n"
     ]
    },
    {
     "data": {
      "image/png": "[encoded data removed]",
      "text/plain": [
       "<Figure size 640x480 with 1 Axes>"
      ]
     },
     "metadata": {},
     "output_type": "display_data"
    }
   ],
   "source": [
    "# TODO: Implement and test cross-validation function on all classes.\n",
    "classes_to_nr = {\n",
    "    'iris_setosa': 0,\n",
    "    'iris_versicolor': 1,\n",
    "    'iris_virginica': 2\n",
    "}\n",
    "compute(classes_to_nr['iris_versicolor'], classes_to_nr['iris_virginica'], kfold_data_iciv)"
   ]
  },
  {
   "cell_type": "markdown",
   "metadata": {},
   "source": [
    "# Questions for examination:\n",
    "\n",
    "In addition to completing the assignment with all its tasks, you should also prepare to answer the following questions:\n",
    "\n",
    "1) Why is it called \"naive bayes\"?\n",
    "\n",
    "2) What are some downsides of the naive bayes learning algorithm?\n",
    "\n",
    "3) When using ROC-curves, what is the theoretical best and worst result you can get?\n",
    "\n",
    "4) When using ROC-curves, in this assignment for example, is a higher threshold-stepsize always better?  \n",
    "\n",
    "5) When using cross-validation and ROC-curves, why is it important to take the correct mean values? What could go wrong?\n"
   ]
  },
  {
   "cell_type": "markdown",
   "metadata": {},
   "source": [
    "# Finished!\n",
    "\n",
    "Was part of the setup incorrect? Did you spot any inconsistencies in the assignment? Could something improve?\n",
    "\n",
    "If so, please write them and send via email and send it to:\n",
    "\n",
    "* marcus.gullstrand@ju.se\n",
    "\n",
    "Thank you!"
   ]
  }
 ],
 "metadata": {
  "kernelspec": {
   "display_name": "ml",
   "language": "python",
   "name": "python3"
  },
  "language_info": {
   "codemirror_mode": {
    "name": "ipython",
    "version": 3
   },
   "file_extension": ".py",
   "mimetype": "text/x-python",
   "name": "python",
   "nbconvert_exporter": "python",
   "pygments_lexer": "ipython3",
   "version": "3.11.9"
  }
 },
 "nbformat": 4,
 "nbformat_minor": 2
}
