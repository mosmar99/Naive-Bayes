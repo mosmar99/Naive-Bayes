{
 "cells": [
  {
   "cell_type": "markdown",
   "metadata": {},
   "source": [
    "# Machine Learning - Assignment 1\n",
    "\n",
    "## Naive Bayes Learning algorithm, Cross-validation, and ROC-Curves"
   ]
  },
  {
   "cell_type": "markdown",
   "metadata": {},
   "source": [
    "The aim of the assignment is to implement:\n",
    "\n",
    "* Naive Bayes learning algorithm for binary classification tasks\n",
    "* Visualization to plot a ROC-curve\n",
    "* A cross-validation test\n",
    "* Visualization of the average ROC-curve of a cross-validation test\n",
    "\n",
    "Follow the instructions and implement what is missing to complete the assignment. Some functions have been started to help you a little bit with the inputs or outputs of the function.\n",
    "\n",
    "**Note:** You might need to go back and forth during your implementation of the code. The structure is set up to make implementation easier, but how you return values from the different functions might vary, and you might find yourself going back and change something to make it easier later on."
   ]
  },
  {
   "cell_type": "markdown",
   "metadata": {},
   "source": [
    "## Assignment preparations"
   ]
  },
  {
   "cell_type": "markdown",
   "metadata": {},
   "source": [
    "We help you out with importing the libraries and reading the data.\n",
    "\n",
    "Look at the output to get an idea of how the data is structured."
   ]
  },
  {
   "cell_type": "code",
   "execution_count": 13081,
   "metadata": {},
   "outputs": [
    {
     "name": "stdout",
     "output_type": "stream",
     "text": [
      "Full data array (features and labels):\n",
      "[[5.1 3.5 1.4 0.2 0]\n",
      " [4.9 3.0 1.4 0.2 0]\n",
      " [4.7 3.2 1.3 0.2 0]]\n",
      "\n",
      "###############\n",
      "\n",
      "Train features (first 4 columns):\n",
      "[[5.1 3.5 1.4 0.2]\n",
      " [4.9 3.0 1.4 0.2]\n",
      " [4.7 3.2 1.3 0.2]]\n",
      "\n",
      "Labels (last column):\n",
      "[[0]\n",
      " [0]\n",
      " [0]]\n",
      "\n",
      "Names of labels:\n",
      "[[0, 'Iris-setosa'], [1, 'Iris-versicolor'], [2, 'Iris-virginica']]\n"
     ]
    }
   ],
   "source": [
    "import numpy as np\n",
    "import pandas as pd\n",
    "import matplotlib.pyplot as plt\n",
    "\n",
    "from math import e, pi, sqrt\n",
    "\n",
    "data = pd.read_csv(\"iris.csv\").to_numpy()\n",
    "\n",
    "mapped, index, unique_arr = np.unique(data[:, -1], return_index=True, return_inverse=True)\n",
    "data[:, -1] = unique_arr\n",
    "iris_setosa, iris_versicolor, iris_virginica = np.split(data, index[1:])\n",
    "\n",
    "print(f\"Full data array (features and labels):\\n{iris_setosa[:3]}\\n\")\n",
    "print(\"###############\\n\")\n",
    "print(f\"Train features (first 4 columns):\\n{iris_setosa[:3, :-1]}\\n\")\n",
    "print(f\"Labels (last column):\\n{iris_setosa[:3, -1:]}\\n\")\n",
    "print(f\"Names of labels:\\n{[[numb, name] for numb, name in enumerate(mapped)]}\")"
   ]
  },
  {
   "cell_type": "code",
   "execution_count": 13082,
   "metadata": {},
   "outputs": [
    {
     "data": {
      "text/plain": [
       "array([[5.1, 3.5, 1.4, 0.2, 0],\n",
       "       [4.9, 3.0, 1.4, 0.2, 0],\n",
       "       [4.7, 3.2, 1.3, 0.2, 0]], dtype=object)"
      ]
     },
     "execution_count": 13082,
     "metadata": {},
     "output_type": "execute_result"
    }
   ],
   "source": [
    "# Example print of the 3 first datapoints (similar as above):\n",
    "iris_setosa[:3]"
   ]
  },
  {
   "cell_type": "markdown",
   "metadata": {},
   "source": [
    "## Data handling functions\n",
    "\n",
    "As a start, we are going to implement some basic data handling functions to use in the future."
   ]
  },
  {
   "cell_type": "markdown",
   "metadata": {},
   "source": [
    "### 1) Split class into a train and test set\n",
    "\n",
    "First, we need to be able to split the class into a train and test set."
   ]
  },
  {
   "cell_type": "code",
   "execution_count": 13083,
   "metadata": {},
   "outputs": [],
   "source": [
    "def train_test_split(class_data:np.ndarray, perc:np.float64 = 0.8) -> tuple[np.ndarray, np.ndarray]:\n",
    "    \n",
    "    # TODO: Split the data into two parts, train and test.\n",
    "    # Numpy has some functionallity that makes implementing this part easier.\n",
    "\n",
    "    np.random.shuffle(class_data)\n",
    "    split_idx = round(data.shape[0]*(perc))\n",
    "\n",
    "    train = class_data[:split_idx]\n",
    "    test  = class_data[split_idx:] \n",
    "\n",
    "    return train, test\n",
    "\n",
    "train, test = train_test_split(data)"
   ]
  },
  {
   "cell_type": "code",
   "execution_count": 13084,
   "metadata": {},
   "outputs": [
    {
     "name": "stdout",
     "output_type": "stream",
     "text": [
      "[4.7 3.2 1.6 0.2 0] [5.4 3.9 1.3 0.4 0]\n"
     ]
    }
   ],
   "source": [
    "\n",
    "# TODO: Test the train_test_split function\n",
    "train, test = train_test_split(data)\n",
    "\n",
    "# TODO: Print the output\n",
    "print(train[0], test[0])"
   ]
  },
  {
   "cell_type": "markdown",
   "metadata": {},
   "source": [
    "### 2) Split data into features and labels\n",
    "\n",
    "The data as shown above is not always the optimal shape. To help us keep track of things, we can split the data into its features and labels seperately.\n",
    "\n",
    "Each class is 4 features and 1 label in the same array: \n",
    "\n",
    "* **[feature 1, feature 2, feature 3, feature 4, label]**\n",
    "\n",
    "It would help us later to have the features and labels in seperate arrays in the form: \n",
    "\n",
    "* **[feature 1, feature 2, feature 3, feature 4]** and **[label]**\n",
    "\n",
    "Here you are going to implement this functionallity."
   ]
  },
  {
   "cell_type": "code",
   "execution_count": 13085,
   "metadata": {},
   "outputs": [],
   "source": [
    "def class_split(data:np.ndarray) -> tuple[np.ndarray, np.ndarray]:\n",
    "\n",
    "    # TODO: Split one class into its features and labels\n",
    "    features = data[:, :-1]\n",
    "    labels = data[:, -1]\n",
    "    return features, labels"
   ]
  },
  {
   "cell_type": "markdown",
   "metadata": {},
   "source": [
    "We should first test the \"**class_split**\" function on one of the classes above (iris_setosa, etc...) to make sure it works properly."
   ]
  },
  {
   "cell_type": "code",
   "execution_count": 13086,
   "metadata": {},
   "outputs": [
    {
     "name": "stdout",
     "output_type": "stream",
     "text": [
      "[[4.7 3.2 1.6 0.2]\n",
      " [6.3 3.3 4.7 1.6]\n",
      " [7.0 3.2 4.7 1.4]\n",
      " [5.1 3.8 1.9 0.4]\n",
      " [4.6 3.2 1.4 0.2]\n",
      " [6.7 3.0 5.2 2.3]\n",
      " [7.7 3.0 6.1 2.3]\n",
      " [5.0 2.0 3.5 1.0]\n",
      " [5.1 3.8 1.6 0.2]\n",
      " [6.5 3.0 5.8 2.2]\n",
      " [7.1 3.0 5.9 2.1]\n",
      " [5.0 3.2 1.2 0.2]\n",
      " [4.9 3.1 1.5 0.1]\n",
      " [6.2 2.8 4.8 1.8]\n",
      " [5.1 3.5 1.4 0.2]\n",
      " [6.2 2.2 4.5 1.5]\n",
      " [5.6 3.0 4.1 1.3]\n",
      " [7.4 2.8 6.1 1.9]\n",
      " [6.0 2.9 4.5 1.5]\n",
      " [5.0 2.3 3.3 1.0]\n",
      " [6.0 3.4 4.5 1.6]\n",
      " [4.5 2.3 1.3 0.3]\n",
      " [5.4 3.4 1.5 0.4]\n",
      " [5.0 3.4 1.6 0.4]\n",
      " [5.5 2.3 4.0 1.3]\n",
      " [6.1 2.9 4.7 1.4]\n",
      " [5.6 2.8 4.9 2.0]\n",
      " [5.1 3.4 1.5 0.2]\n",
      " [6.1 3.0 4.9 1.8]\n",
      " [6.5 2.8 4.6 1.5]\n",
      " [5.8 2.8 5.1 2.4]\n",
      " [6.5 3.2 5.1 2.0]\n",
      " [4.6 3.1 1.5 0.2]\n",
      " [6.3 2.8 5.1 1.5]\n",
      " [6.0 2.7 5.1 1.6]\n",
      " [5.9 3.2 4.8 1.8]\n",
      " [6.0 2.2 5.0 1.5]\n",
      " [6.5 3.0 5.2 2.0]\n",
      " [6.4 2.7 5.3 1.9]\n",
      " [5.2 3.5 1.5 0.2]\n",
      " [5.5 2.5 4.0 1.3]\n",
      " [5.8 2.7 5.1 1.9]\n",
      " [5.9 3.0 5.1 1.8]\n",
      " [5.7 2.8 4.5 1.3]\n",
      " [5.7 2.9 4.2 1.3]\n",
      " [4.9 2.5 4.5 1.7]\n",
      " [5.7 3.8 1.7 0.3]\n",
      " [4.9 2.4 3.3 1.0]\n",
      " [5.8 2.7 5.1 1.9]\n",
      " [5.0 3.0 1.6 0.2]\n",
      " [6.2 3.4 5.4 2.3]\n",
      " [6.1 2.6 5.6 1.4]\n",
      " [6.4 2.9 4.3 1.3]\n",
      " [6.1 2.8 4.7 1.2]\n",
      " [6.0 3.0 4.8 1.8]\n",
      " [4.8 3.4 1.9 0.2]\n",
      " [7.3 2.9 6.3 1.8]\n",
      " [4.7 3.2 1.3 0.2]\n",
      " [4.4 3.2 1.3 0.2]\n",
      " [7.7 2.6 6.9 2.3]\n",
      " [4.6 3.4 1.4 0.3]\n",
      " [6.8 3.0 5.5 2.1]\n",
      " [5.1 2.5 3.0 1.1]\n",
      " [6.3 3.4 5.6 2.4]\n",
      " [5.1 3.5 1.4 0.3]\n",
      " [7.2 3.6 6.1 2.5]\n",
      " [6.7 3.1 5.6 2.4]\n",
      " [5.5 4.2 1.4 0.2]\n",
      " [6.3 3.3 6.0 2.5]\n",
      " [5.7 3.0 4.2 1.2]\n",
      " [7.7 3.8 6.7 2.2]\n",
      " [5.1 3.3 1.7 0.5]\n",
      " [6.6 2.9 4.6 1.3]\n",
      " [5.5 3.5 1.3 0.2]\n",
      " [6.3 2.5 4.9 1.5]\n",
      " [4.8 3.0 1.4 0.1]\n",
      " [5.6 2.7 4.2 1.3]\n",
      " [5.7 2.5 5.0 2.0]\n",
      " [5.6 2.9 3.6 1.3]\n",
      " [6.7 3.0 5.0 1.7]\n",
      " [5.2 2.7 3.9 1.4]\n",
      " [7.9 3.8 6.4 2.0]\n",
      " [4.8 3.1 1.6 0.2]\n",
      " [6.9 3.1 4.9 1.5]\n",
      " [6.4 2.8 5.6 2.1]\n",
      " [6.6 3.0 4.4 1.4]\n",
      " [6.2 2.9 4.3 1.3]\n",
      " [7.6 3.0 6.6 2.1]\n",
      " [5.0 3.5 1.6 0.6]\n",
      " [5.8 2.7 3.9 1.2]\n",
      " [5.0 3.6 1.4 0.2]\n",
      " [5.1 3.7 1.5 0.4]\n",
      " [4.8 3.0 1.4 0.3]\n",
      " [4.3 3.0 1.1 0.1]\n",
      " [5.0 3.3 1.4 0.2]\n",
      " [4.9 3.0 1.4 0.2]\n",
      " [7.2 3.2 6.0 1.8]\n",
      " [6.3 2.5 5.0 1.9]\n",
      " [5.7 2.8 4.1 1.3]\n",
      " [5.5 2.4 3.7 1.0]\n",
      " [5.5 2.4 3.8 1.1]\n",
      " [5.4 3.9 1.7 0.4]\n",
      " [5.7 2.6 3.5 1.0]\n",
      " [6.4 3.2 5.3 2.3]\n",
      " [6.7 3.1 4.4 1.4]\n",
      " [5.3 3.7 1.5 0.2]\n",
      " [5.1 3.8 1.5 0.3]\n",
      " [5.8 2.7 4.1 1.0]\n",
      " [5.2 4.1 1.5 0.1]\n",
      " [6.4 2.8 5.6 2.2]\n",
      " [7.7 2.8 6.7 2.0]\n",
      " [6.9 3.2 5.7 2.3]\n",
      " [6.1 3.0 4.6 1.4]\n",
      " [6.7 2.5 5.8 1.8]\n",
      " [4.9 3.1 1.5 0.1]\n",
      " [5.4 3.0 4.5 1.5]\n",
      " [6.9 3.1 5.1 2.3]\n",
      " [6.4 3.1 5.5 1.8]\n",
      " [6.8 2.8 4.8 1.4]\n",
      " [4.4 3.0 1.3 0.2]\n",
      " [5.4 3.9 1.3 0.4]\n",
      " [5.5 2.6 4.4 1.2]\n",
      " [5.7 4.4 1.5 0.4]\n",
      " [5.6 3.0 4.5 1.5]\n",
      " [4.8 3.4 1.6 0.2]\n",
      " [5.6 2.5 3.9 1.1]\n",
      " [4.9 3.1 1.5 0.1]\n",
      " [5.0 3.5 1.3 0.3]\n",
      " [6.1 2.8 4.0 1.3]\n",
      " [5.4 3.4 1.7 0.2]\n",
      " [5.0 3.4 1.5 0.2]\n",
      " [5.9 3.0 4.2 1.5]\n",
      " [5.2 3.4 1.4 0.2]\n",
      " [5.8 2.6 4.0 1.2]\n",
      " [6.4 3.2 4.5 1.5]\n",
      " [6.0 2.2 4.0 1.0]\n",
      " [6.7 3.3 5.7 2.5]\n",
      " [4.4 2.9 1.4 0.2]\n",
      " [6.3 2.3 4.4 1.3]\n",
      " [6.9 3.1 5.4 2.1]\n",
      " [6.7 3.1 4.7 1.5]\n",
      " [6.7 3.3 5.7 2.1]\n",
      " [6.3 2.7 4.9 1.8]\n",
      " [5.8 4.0 1.2 0.2]\n",
      " [5.4 3.7 1.5 0.2]\n",
      " [4.6 3.6 1.0 0.2]\n",
      " [6.5 3.0 5.5 1.8]\n",
      " [7.2 3.0 5.8 1.6]\n",
      " [6.3 2.9 5.6 1.8]\n",
      " [6.8 3.2 5.9 2.3]] [0 1 1 0 0 2 2 1 0 2 2 0 0 2 0 1 1 2 1 1 1 0 0 0 1 1 2 0 2 1 2 2 0 2 1 1 2\n",
      " 2 2 0 1 2 2 1 1 2 0 1 2 0 2 2 1 1 2 0 2 0 0 2 0 2 1 2 0 2 2 0 2 1 2 0 1 0\n",
      " 1 0 1 2 1 1 1 2 0 1 2 1 1 2 0 1 0 0 0 0 0 0 2 2 1 1 1 0 1 2 1 0 0 1 0 2 2\n",
      " 2 1 2 0 1 2 2 1 0 0 1 0 1 0 1 0 0 1 0 0 1 0 1 1 1 2 0 1 2 1 2 2 0 0 0 2 2\n",
      " 2 2]\n"
     ]
    }
   ],
   "source": [
    "# TODO: Test the class splitting function\n",
    "features, labels = class_split(data)\n",
    "\n",
    "# TODO: Print the output\n",
    "print(features, labels)"
   ]
  },
  {
   "cell_type": "markdown",
   "metadata": {},
   "source": [
    "We should also try to **1)** first split a class into a train and test set, **2)** split each of these two into features and abels. In total there should be 4 arrays (2 feature and 2 label arrays)."
   ]
  },
  {
   "cell_type": "code",
   "execution_count": 13087,
   "metadata": {},
   "outputs": [
    {
     "name": "stdout",
     "output_type": "stream",
     "text": [
      "<class 'float'>\n"
     ]
    }
   ],
   "source": [
    "# TODO: Use the above data handling functions to make 2 feature arrays and 2 label arrays.\n",
    "\n",
    "train, test = train_test_split(data)\n",
    "train_features, train_labels = class_split(train)\n",
    "test_features, test_labels = class_split(test)\n",
    "print(type(test_features[0,0]))\n",
    "\n",
    "# TODO: Print the output (you may use multiple print-statements if you wish)\n",
    "# print(train_features[:3], train_labels[:3], test_features[:3], test_labels[:3])"
   ]
  },
  {
   "cell_type": "markdown",
   "metadata": {},
   "source": [
    "Think a bit before going to the next task, what can easily go wrong in the above code?"
   ]
  },
  {
   "cell_type": "markdown",
   "metadata": {},
   "source": [
    "## Naive Bayes learning algorithm"
   ]
  },
  {
   "cell_type": "markdown",
   "metadata": {},
   "source": [
    "When implementing the Navie Bayes learning algorithm, we can break it down into a few components.\n",
    "\n",
    "We will implement these components one at a time."
   ]
  },
  {
   "cell_type": "markdown",
   "metadata": {},
   "source": [
    "### 3) Calculate feature statistics\n",
    "\n",
    "First, we need to implement a function that returns feature statistics (means, standard deviation, priors) for a given set of feature data for a single class. This is the equivalent of \"training\" the naive bayes model.\n",
    "\n",
    "**Note 1:** Each feature gets its own mean and standard deviation!\n",
    "\n",
    "**Note 2:** The way you structure the functions (what is returned) shapes the remainder of the assignment."
   ]
  },
  {
   "cell_type": "code",
   "execution_count": 13088,
   "metadata": {},
   "outputs": [],
   "source": [
    "def fit(train_X:np.ndarray, train_y:np.ndarray) -> dict:\n",
    "    return {cls: {\"prior\": len(train_X[train_y == cls])/len(train_y),\n",
    "                \"means\": np.mean(np.array(train_X[train_y == cls], dtype=\"float64\"), axis=0),\n",
    "                \"stdevs\": np.std(np.array(train_X[train_y == cls], dtype=\"float64\"), axis=0)\n",
    "                } for cls in np.unique(train_y)}\n",
    "\n",
    "def calculate_feature_statistics(feature_data):\n",
    "    \n",
    "    # TODO: Complete this function so that it returns the feature statistics for the input data.\n",
    "\n",
    "\n",
    "    return ... # You choose how you return the statistics"
   ]
  },
  {
   "cell_type": "markdown",
   "metadata": {},
   "source": [
    "To make sure the function works, we should test it before proceding."
   ]
  },
  {
   "cell_type": "code",
   "execution_count": 13089,
   "metadata": {},
   "outputs": [
    {
     "name": "stdout",
     "output_type": "stream",
     "text": [
      "{0: {'prior': 0.30833333333333335, 'means': array([5.04864865, 3.45945946, 1.47837838, 0.24864865]), 'stdevs': array([0.34060488, 0.35218197, 0.17106208, 0.11768401])}, 1: {'prior': 0.38333333333333336, 'means': array([5.9173913 , 2.77173913, 4.27391304, 1.32608696]), 'stdevs': array([0.517647  , 0.31392539, 0.47247488, 0.20369925])}, 2: {'prior': 0.30833333333333335, 'means': array([6.61081081, 2.94594595, 5.55135135, 1.97837838]), 'stdevs': array([0.64923397, 0.32348992, 0.58661725, 0.26007809])}}\n"
     ]
    }
   ],
   "source": [
    "# TODO: Make sure to use our previous class splitting function.\n",
    "\n",
    "train, test = train_test_split(data)\n",
    "train_X, train_y = class_split(train)\n",
    "test_X, test_y = class_split(test)\n",
    "\n",
    "# TODO: Test the function here for one of the dataset classes. \n",
    "model = fit(train_X, train_y)\n",
    "\n",
    "# TODO: Print the output from the feature statistic function.\n",
    "print(model) "
   ]
  },
  {
   "cell_type": "markdown",
   "metadata": {},
   "source": [
    "### 4) Gaussian probability density function (Gaussian PDF)\n",
    "\n",
    "Now we need to implement the gaussian probability density function to use for a single datapoint.\n",
    "\n",
    "**Note:** Look at the imports in the first cell at the top, it has some math numbers for easy use here. "
   ]
  },
  {
   "cell_type": "code",
   "execution_count": 13090,
   "metadata": {},
   "outputs": [],
   "source": [
    "def gauss_pdf(x:np.float64, mean:np.float64, stdev:np.float64) -> np.float64:\n",
    "    prob_density = (1/(stdev * sqrt(2*pi)))*(e**-(((x-mean)**2)/(2*(stdev**2)))) # TODO: Implement the gaussian probability density function.\n",
    "    return prob_density\n",
    "\n",
    "def gauss_pdf_arr(xs:np.array, means:np.array, stdevs:np.array):\n",
    "    return np.array([gauss_pdf(x, mean, feat) for x, mean, feat in zip(xs, means, stdevs)])"
   ]
  },
  {
   "cell_type": "markdown",
   "metadata": {},
   "source": [
    "### 5) Testing Gaussian PDF"
   ]
  },
  {
   "cell_type": "markdown",
   "metadata": {},
   "source": [
    "We should test it to make sure it works. Train it, using the \"calculate_feature_statistics\" function, on one of the dataset classes. Then, take one datapoint from the same class and use naive bayes gaussian to make a prediction."
   ]
  },
  {
   "cell_type": "code",
   "execution_count": 13091,
   "metadata": {},
   "outputs": [
    {
     "name": "stdout",
     "output_type": "stream",
     "text": [
      "{0: {'prior': 0.30833333333333335, 'means': array([5.04864865, 3.45945946, 1.47837838, 0.24864865]), 'stdevs': array([0.34060488, 0.35218197, 0.17106208, 0.11768401])}, 1: {'prior': 0.38333333333333336, 'means': array([5.9173913 , 2.77173913, 4.27391304, 1.32608696]), 'stdevs': array([0.517647  , 0.31392539, 0.47247488, 0.20369925])}, 2: {'prior': 0.30833333333333335, 'means': array([6.61081081, 2.94594595, 5.55135135, 1.97837838]), 'stdevs': array([0.64923397, 0.32348992, 0.58661725, 0.26007809])}}\n",
      "[0.34060488 0.35218197 0.17106208 0.11768401]\n",
      "[3.15982385e-01 1.96232995e-01 3.08718587e-87 2.74758098e-48]\n",
      "[[2]]\n",
      "prediction: 2, actual: 2\n"
     ]
    }
   ],
   "source": [
    "# TODO: Implement the code below to test the \"gaussian_probability_density_function\" function for one of the classes.\n",
    "\n",
    "model = fit(train_X, train_y)\n",
    "print(model)\n",
    "testid = 12\n",
    "# TODO: Test with one datapoint from the learned class.\n",
    "# Naive bayes prediction in one line\n",
    "print(model[0][\"stdevs\"])\n",
    "print(gauss_pdf_arr(data[testid,:4], model[0][\"means\"], model[0][\"stdevs\"]))\n",
    "prediction = np.argmax([model[cls][\"prior\"] * np.prod(gauss_pdf_arr(data[testid,:4], model[cls][\"means\"], model[cls][\"stdevs\"])) for cls in model])\n",
    "\n",
    "print(data[testid:testid+1,-1:])\n",
    "\n",
    "# TODO: Print the probability density\n",
    "print(f\"prediction: {prediction}, actual: {data[testid,-1]}\")"
   ]
  },
  {
   "cell_type": "markdown",
   "metadata": {},
   "source": [
    "As a test, take one datapoint from one of the other classes and see if the predicted probability changes."
   ]
  },
  {
   "cell_type": "code",
   "execution_count": 13092,
   "metadata": {},
   "outputs": [],
   "source": [
    "# # TODO: Take one datapoint from one of the other classes.\n",
    "# other_class_datapoint = ...\n",
    "\n",
    "# # TODO: Use naive bayes gaussian on this datapoint with the same feature statistics as the first class.\n",
    "# ... = gaussian_probability_density_function(...)\n",
    "\n",
    "# # TODO: Print the probability\n",
    "# print(...)"
   ]
  },
  {
   "cell_type": "markdown",
   "metadata": {},
   "source": [
    "Think a bit why the probability changes, what could affect the prediction?"
   ]
  },
  {
   "cell_type": "markdown",
   "metadata": {},
   "source": [
    "## Prepare Naive Bayes for binary classification"
   ]
  },
  {
   "cell_type": "markdown",
   "metadata": {},
   "source": [
    "### 6) Prepare the data for inference\n",
    "\n",
    "Before we train and test the naive bayes for multiple classes, we should get our data in order.\n",
    "\n",
    "Similar to how we did previously, we should now split two classes into a train and test set, you may choose which two classes freely."
   ]
  },
  {
   "cell_type": "code",
   "execution_count": 13093,
   "metadata": {},
   "outputs": [],
   "source": [
    "# TODO: Split two classes into train and test sets.\n",
    "\n",
    "\n",
    "# TODO: Sepearte the features and lables for both the train and test set.\n"
   ]
  },
  {
   "cell_type": "markdown",
   "metadata": {},
   "source": [
    "### 7) Class A vs Class B for binary classification\n",
    "\n",
    "**Note:** You might need to go back and forth a bit in the following cells during your implementation of your code.\n",
    "\n",
    "We have to get the probability from two sets of classes and compare the two probabilities in order to make a propper prediction.\n",
    "\n",
    "Here we will implement two functions to make this possible. We seperate these functions to make the implementation of the ROC-curve easier later on.\n",
    "\n",
    "**Function 1: naive_bayes_prediction** \n",
    "* A function that returns the probabilities for each class the model for a single datapoint.\n",
    "\n",
    "**Function 2: probabilities_to_prediction**\n",
    "* A function that takes in probabilities and returns a prediction."
   ]
  },
  {
   "cell_type": "code",
   "execution_count": 13094,
   "metadata": {},
   "outputs": [],
   "source": [
    "def naive_bayes_prediction(model:dict, data_point: np.ndarray) -> np.ndarray:\n",
    "    return np.array([model[cls][\"prior\"] * np.prod(gauss_pdf_arr(data_point, model[cls][\"means\"], model[cls][\"stdevs\"])) for cls in model])"
   ]
  },
  {
   "cell_type": "code",
   "execution_count": 13095,
   "metadata": {},
   "outputs": [],
   "source": [
    "def likelihood_to_probability(likelihoods:np.ndarray):\n",
    "    return likelihoods/np.sum(likelihoods)\n",
    "\n",
    "def probabilities_to_prediction(probabilities:np.ndarray) -> np.intp:\n",
    "\n",
    "    # TODO: Implement prediction of the class with the highest probability\n",
    "\n",
    "    return np.argmax(probabilities)"
   ]
  },
  {
   "cell_type": "markdown",
   "metadata": {},
   "source": [
    "To test the function we need the feature metrics from the classes we choose. \n",
    "\n",
    "**Note:** Choose the correct train/test set and the correct feature/label split!"
   ]
  },
  {
   "cell_type": "code",
   "execution_count": 13096,
   "metadata": {},
   "outputs": [
    {
     "name": "stdout",
     "output_type": "stream",
     "text": [
      "prediction: 2, actual: 2, probabilities: [1.87489037e-262 1.64586406e-009 9.99999998e-001]\n"
     ]
    }
   ],
   "source": [
    "# TODO: Get the feature metrics for the classes.\n",
    "point = data[34]\n",
    "probabilites = naive_bayes_prediction(model, point[:4])\n",
    "prediction = probabilities_to_prediction(probabilites)\n",
    "print(f\"prediction: {prediction}, actual: {point[-1]}, probabilities: {likelihood_to_probability(probabilites)}\")"
   ]
  },
  {
   "cell_type": "markdown",
   "metadata": {},
   "source": [
    "Now we should have implemented all the neccessary parts to train a naive bayes algorithm and do inference on it. Implement a small test workflow for two of your chosen classes."
   ]
  },
  {
   "cell_type": "code",
   "execution_count": 13097,
   "metadata": {},
   "outputs": [],
   "source": [
    "# TODO: Test the \"naive_bayes_prediction\" function and implement all neccessary code for it to work.\n",
    "\n",
    "# TODO: Print the predicted class and the actual class for the test set"
   ]
  },
  {
   "cell_type": "markdown",
   "metadata": {},
   "source": [
    "## ROC-curve\n",
    "\n",
    "A ROC curve, or *Receiver Operating Characteristic curve*, is a graphical plot that illustrates the performance of a binary classifier such as our Naive Bayes model.\n",
    "\n",
    "More info can be found in the course material and here: [https://en.wikipedia.org/wiki/Receiver_operating_characteristic](https://en.wikipedia.org/wiki/Receiver_operating_characteristic)\n",
    "\n",
    "Another good illustration by Google can be found here: [https://developers.google.com/machine-learning/crash-course/classification/roc-and-auc](https://developers.google.com/machine-learning/crash-course/classification/roc-and-auc)\n",
    "\n",
    "Now that we have a prediction model, we would want to try it out and test it using a ROC-curve."
   ]
  },
  {
   "cell_type": "markdown",
   "metadata": {},
   "source": [
    "### 8) True Positive Rate (TPR) and False Positive Rate (FPR)\n",
    "\n",
    "From our prediction function we get probabilities, and for prediction purposes we have just predicted the one with the highest probability.\n",
    "\n",
    "To plot a ROC-curve, we need the TPR and FPR for the binary classification. We will implement this here.\n",
    "\n",
    "**Note 1:** The threshold is is a value that goes from 0 to 1. \n",
    "\n",
    "**Note 2:** One of the two classes will be seen as \"the positive class\" (prediction over the threshold) and the other as \"the negative class\" (prediction under the threshold).\n",
    "\n",
    "**Note 3:** The threshold stepsize will decide the size of the returned TPR/FPR list. A value of 0.1 will give 10 elements (0 to 1 in increments of 0.1)"
   ]
  },
  {
   "cell_type": "code",
   "execution_count": 13098,
   "metadata": {},
   "outputs": [
    {
     "name": "stdout",
     "output_type": "stream",
     "text": [
      "Python list: [0.0, 0.1, 0.2, 0.3, 0.4, 0.5, 0.6, 0.7, 0.8, 0.9]\n",
      "Numpy linspace: [0.  0.1 0.2 0.3 0.4 0.5 0.6 0.7 0.8 0.9 1. ]\n",
      "Numpy linspace (no endpoint): [0.  0.1 0.2 0.3 0.4 0.5 0.6 0.7 0.8 0.9]\n"
     ]
    }
   ],
   "source": [
    "# Stepsize demonstration\n",
    "print(\"Python list:\", [x/10 for x in range(0,10,1)])\n",
    "\n",
    "# Stepsize demonstration with numpy:\n",
    "print(\"Numpy linspace:\", np.linspace(0,1,11))\n",
    "print(\"Numpy linspace (no endpoint):\", np.linspace(0,1,10,endpoint=False))"
   ]
  },
  {
   "cell_type": "code",
   "execution_count": 13099,
   "metadata": {},
   "outputs": [],
   "source": [
    "def TPR_and_FPR(prediction_probabilities, test_labels, threshold_stepsize = 0.1):\n",
    "\n",
    "    # TODO: Implement the rest of this function\n",
    "    steps = int((1/threshold_stepsize) + 1)\n",
    "    thresholds = np.linspace(0,1,steps)\n",
    "\n",
    "    tp = np.sum([(prediction_probabilities[:,0] > threshold) & (test_labels == 0) for threshold in thresholds], axis=1)\n",
    "    fn = np.sum([(prediction_probabilities[:,0] <= threshold) & (test_labels == 0) for threshold in thresholds], axis=1)\n",
    "\n",
    "    fp = np.sum([(prediction_probabilities[:,0] >= threshold) & ~(test_labels == 0) for threshold in thresholds], axis=1)\n",
    "    tn = np.sum([(prediction_probabilities[:,0] < threshold) & ~(test_labels == 0) for threshold in thresholds], axis=1)\n",
    "\n",
    "    TPR = tp/(tp+fn)\n",
    "    FPR = fp/(fp+tn)\n",
    "\n",
    "    return TPR, FPR"
   ]
  },
  {
   "cell_type": "code",
   "execution_count": 13100,
   "metadata": {},
   "outputs": [
    {
     "name": "stdout",
     "output_type": "stream",
     "text": [
      "[1. 1. 1. ... 1. 1. 0.] [1. 0. 0. ... 0. 0. 0.]\n"
     ]
    }
   ],
   "source": [
    "# TODO: Test the \"TPR_and_FPR\" function on the model you have created previously.\n",
    "probabilites = np.apply_along_axis(lambda dp: likelihood_to_probability(naive_bayes_prediction(model, dp)), arr=test_X, axis=1)\n",
    "TPR, FPR = TPR_and_FPR(probabilites, test_y, threshold_stepsize=0.001)\n",
    "print(TPR, FPR)"
   ]
  },
  {
   "cell_type": "code",
   "execution_count": null,
   "metadata": {},
   "outputs": [],
   "source": []
  },
  {
   "cell_type": "markdown",
   "metadata": {},
   "source": [
    "How does the values change if you change the threshold stepsize? \n",
    "\n",
    "How does the values change if you change the classes you compare?"
   ]
  },
  {
   "cell_type": "markdown",
   "metadata": {},
   "source": [
    "### 9) Plot the TPR and FPR\n",
    "\n",
    "To better see what is going on, we can plot the TPR and FPR. We can also calculate the Area Under the ROC Curve (AUC or AUROC) at the same time."
   ]
  },
  {
   "cell_type": "code",
   "execution_count": 13101,
   "metadata": {},
   "outputs": [],
   "source": [
    "def plot_ROC(TPR, FPR):\n",
    "\n",
    "    # TODO: Calculate the AUC score.\n",
    "    AUC = -1*np.trapezoid(TPR, FPR) \n",
    "    # TODO: Plot the TPR and FPR using plt (matplotlib)\n",
    "\n",
    "    # TODO: Add a \"middle-line\" in the plot. This can be seen as the \"better/worse than random\" line.\n",
    "\n",
    "    plt.plot(FPR, TPR, label=f\"AUC = {AUC:.2f})\")\n",
    "    plt.plot([0,1], [0,1], color=\"gray\", linestyle=\"--\")\n",
    "\n",
    "    plt.title(\"ROC Curve\")\n",
    "    plt.xlabel(\"False Positive Rate\")\n",
    "    plt.ylabel(\"True Positive Rate\")\n",
    "    plt.legend(loc=\"lower right\")\n",
    "\n",
    "    plt.show()\n",
    "\n",
    "    pass # No need to return anything, remove this line once you are finished implementing."
   ]
  },
  {
   "cell_type": "code",
   "execution_count": 13102,
   "metadata": {},
   "outputs": [
    {
     "data": {
      "image/png": "[encoded data removed]",
      "text/plain": [
       "<Figure size 640x480 with 1 Axes>"
      ]
     },
     "metadata": {},
     "output_type": "display_data"
    }
   ],
   "source": [
    "# TODO: Test the plotting function on the TPR and FPR you just calculated.\n",
    "plot_ROC(TPR, FPR)"
   ]
  },
  {
   "cell_type": "markdown",
   "metadata": {},
   "source": [
    "## Cross-validation\n",
    "\n",
    "The final task is to take everything you have implemented so far and apply it in a cross-validation loop.\n",
    "\n",
    "**Note 1:** To better reflect a real scenarios, you should shuffle the data before doing cross-validation.\n",
    "\n",
    "**Note 2:** When using cross-validation, the interesting thing is the mean performance (mean AUC, mean accuracy, mean ROC-curve).\n",
    "\n",
    "**Note 3:** This part is a bit more free in terms of implementation, but make sure to use some of the previously implemented functions."
   ]
  },
  {
   "cell_type": "markdown",
   "metadata": {},
   "source": [
    "### 10) Cross-validation loop"
   ]
  },
  {
   "cell_type": "code",
   "execution_count": 13103,
   "metadata": {},
   "outputs": [],
   "source": [
    "def cross_validation(data, target, folds = 10, threshold_stepsize = 0.1):\n",
    "\n",
    "    # TODO: Implement Cross-validation\n",
    "    \n",
    "    for i in range(folds):\n",
    "\n",
    "\n",
    "        ...\n",
    "\n",
    "    # TODO: Plot the average ROC-curve.\n",
    "    # NOTE: Take the correct average!\n",
    "\n",
    "    plot_ROC(...)"
   ]
  },
  {
   "cell_type": "markdown",
   "metadata": {},
   "source": [
    "### 11) 10-fold Cross-validation on all classes\n",
    "\n",
    "Test the \"cross_validation\" function on all the classes against eachother using 10 folds.\n",
    "\n",
    "* Iris-setosa vs Iris-versicolor\n",
    "* Iris-setosa vs Iris-virginica\n",
    "* Iris-versicolor vs Iris-virginica"
   ]
  },
  {
   "cell_type": "code",
   "execution_count": 13104,
   "metadata": {},
   "outputs": [],
   "source": [
    "# TODO: Implement and test cross-validation function on all classes."
   ]
  },
  {
   "cell_type": "code",
   "execution_count": 13105,
   "metadata": {},
   "outputs": [],
   "source": [
    "# TODO: Implement and test cross-validation function on all classes."
   ]
  },
  {
   "cell_type": "code",
   "execution_count": 13106,
   "metadata": {},
   "outputs": [],
   "source": [
    "# TODO: Implement and test cross-validation function on all classes."
   ]
  },
  {
   "cell_type": "markdown",
   "metadata": {},
   "source": [
    "# Questions for examination:\n",
    "\n",
    "In addition to completing the assignment with all its tasks, you should also prepare to answer the following questions:\n",
    "\n",
    "1) Why is it called \"naive bayes\"?\n",
    "\n",
    "2) What are some downsides of the naive bayes learning algorithm?\n",
    "\n",
    "3) When using ROC-curves, what is the theoretical best and worst result you can get?\n",
    "\n",
    "4) When using ROC-curves, in this assignment for example, is a higher threshold-stepsize always better?  \n",
    "\n",
    "5) When using cross-validation and ROC-curves, why is it important to take the correct mean values? What could go wrong?\n"
   ]
  },
  {
   "cell_type": "markdown",
   "metadata": {},
   "source": [
    "# Finished!\n",
    "\n",
    "Was part of the setup incorrect? Did you spot any inconsistencies in the assignment? Could something improve?\n",
    "\n",
    "If so, please write them and send via email and send it to:\n",
    "\n",
    "* marcus.gullstrand@ju.se\n",
    "\n",
    "Thank you!"
   ]
  }
 ],
 "metadata": {
  "kernelspec": {
   "display_name": "ML_course",
   "language": "python",
   "name": "python3"
  },
  "language_info": {
   "codemirror_mode": {
    "name": "ipython",
    "version": 3
   },
   "file_extension": ".py",
   "mimetype": "text/x-python",
   "name": "python",
   "nbconvert_exporter": "python",
   "pygments_lexer": "ipython3",
   "version": "3.13.1"
  }
 },
 "nbformat": 4,
 "nbformat_minor": 2
}
