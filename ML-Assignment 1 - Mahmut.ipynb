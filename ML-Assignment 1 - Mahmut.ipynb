{
 "cells": [
  {
   "cell_type": "markdown",
   "metadata": {},
   "source": [
    "# Machine Learning - Assignment 1\n",
    "\n",
    "## Naive Bayes Learning algorithm, Cross-validation, and ROC-Curves"
   ]
  },
  {
   "cell_type": "markdown",
   "metadata": {},
   "source": [
    "The aim of the assignment is to implement:\n",
    "\n",
    "* Naive Bayes learning algorithm for binary classification tasks\n",
    "* Visualization to plot a ROC-curve\n",
    "* A cross-validation test\n",
    "* Visualization of the average ROC-curve of a cross-validation test\n",
    "\n",
    "Follow the instructions and implement what is missing to complete the assignment. Some functions have been started to help you a little bit with the inputs or outputs of the function.\n",
    "\n",
    "**Note:** You might need to go back and forth during your implementation of the code. The structure is set up to make implementation easier, but how you return values from the different functions might vary, and you might find yourself going back and change something to make it easier later on."
   ]
  },
  {
   "cell_type": "markdown",
   "metadata": {},
   "source": [
    "## Assignment preparations"
   ]
  },
  {
   "cell_type": "markdown",
   "metadata": {},
   "source": [
    "We help you out with importing the libraries and reading the data.\n",
    "\n",
    "Look at the output to get an idea of how the data is structured."
   ]
  },
  {
   "cell_type": "code",
   "execution_count": 1,
   "metadata": {},
   "outputs": [
    {
     "name": "stdout",
     "output_type": "stream",
     "text": [
      "Full data array (features and labels):\n",
      "[[5.1 3.5 1.4 0.2 0]\n",
      " [4.9 3.0 1.4 0.2 0]\n",
      " [4.7 3.2 1.3 0.2 0]]\n",
      "\n",
      "###############\n",
      "\n",
      "Train features (first 4 columns):\n",
      "[[5.1 3.5 1.4 0.2]\n",
      " [4.9 3.0 1.4 0.2]\n",
      " [4.7 3.2 1.3 0.2]]\n",
      "\n",
      "Labels (last column):\n",
      "[[0]\n",
      " [0]\n",
      " [0]]\n",
      "\n",
      "Names of labels:\n",
      "[[0, 'Iris-setosa'], [1, 'Iris-versicolor'], [2, 'Iris-virginica']]\n"
     ]
    }
   ],
   "source": [
    "import numpy as np\n",
    "import pandas as pd\n",
    "import matplotlib.pyplot as plt\n",
    "\n",
    "from math import e, pi, sqrt\n",
    "\n",
    "data = pd.read_csv(\"iris.csv\").to_numpy()\n",
    "\n",
    "mapped, index, unique_arr = np.unique(data[:, -1], return_index=True, return_inverse=True)\n",
    "data[:, -1] = unique_arr\n",
    "iris_setosa, iris_versicolor, iris_virginica = np.split(data, index[1:])\n",
    "\n",
    "print(f\"Full data array (features and labels):\\n{iris_setosa[:3]}\\n\")\n",
    "print(\"###############\\n\")\n",
    "print(f\"Train features (first 4 columns):\\n{iris_setosa[:3, :-1]}\\n\")\n",
    "print(f\"Labels (last column):\\n{iris_setosa[:3, -1:]}\\n\")\n",
    "print(f\"Names of labels:\\n{[[numb, name] for numb, name in enumerate(mapped)]}\")"
   ]
  },
  {
   "cell_type": "code",
   "execution_count": 2,
   "metadata": {},
   "outputs": [
    {
     "data": {
      "text/plain": [
       "array([  0,  50, 100])"
      ]
     },
     "execution_count": 2,
     "metadata": {},
     "output_type": "execute_result"
    }
   ],
   "source": [
    "index"
   ]
  },
  {
   "cell_type": "code",
   "execution_count": 3,
   "metadata": {},
   "outputs": [
    {
     "data": {
      "text/plain": [
       "array([[5.1, 3.5, 1.4, 0.2, 0],\n",
       "       [4.9, 3.0, 1.4, 0.2, 0],\n",
       "       [4.7, 3.2, 1.3, 0.2, 0]], dtype=object)"
      ]
     },
     "execution_count": 3,
     "metadata": {},
     "output_type": "execute_result"
    }
   ],
   "source": [
    "# Example print of the 3 first datapoints (similar as above):\n",
    "iris_setosa[:3]"
   ]
  },
  {
   "cell_type": "markdown",
   "metadata": {},
   "source": [
    "## Data handling functions\n",
    "\n",
    "As a start, we are going to implement some basic data handling functions to use in the future."
   ]
  },
  {
   "cell_type": "markdown",
   "metadata": {},
   "source": [
    "### 1) Split class into a train and test set\n",
    "\n",
    "First, we need to be able to split the class into a train and test set."
   ]
  },
  {
   "cell_type": "code",
   "execution_count": 4,
   "metadata": {},
   "outputs": [],
   "source": [
    "from typing import Tuple"
   ]
  },
  {
   "cell_type": "code",
   "execution_count": 5,
   "metadata": {},
   "outputs": [],
   "source": [
    "def train_test_split(class_data: np.ndarray, perc: float = 0.8) -> Tuple[np.ndarray, np.ndarray]:\n",
    "    \n",
    "    # TODO: Split the data into two parts, train and test.\n",
    "    # Numpy has some functionallity that makes implementing this part easier.\n",
    "\n",
    "    np.random.shuffle(class_data)\n",
    "\n",
    "    split_idx = round(data.shape[0]*(perc))\n",
    "\n",
    "    train = class_data[:split_idx]\n",
    "    test  = class_data[split_idx:] \n",
    "\n",
    "    return train, test\n",
    "\n",
    "train, test = train_test_split(data)"
   ]
  },
  {
   "cell_type": "code",
   "execution_count": 6,
   "metadata": {},
   "outputs": [
    {
     "name": "stdout",
     "output_type": "stream",
     "text": [
      "0.8\n",
      "0.2\n"
     ]
    }
   ],
   "source": [
    "# TODO: Test the train_test_split function\n",
    "train, test = train_test_split(data)\n",
    "\n",
    "# TODO: Print the output\n",
    "print(train.shape[0] / 150)\n",
    "print(test.shape[0] / 150)"
   ]
  },
  {
   "cell_type": "code",
   "execution_count": 7,
   "metadata": {},
   "outputs": [
    {
     "name": "stdout",
     "output_type": "stream",
     "text": [
      "120\n"
     ]
    }
   ],
   "source": [
    "print(train.shape[0])"
   ]
  },
  {
   "cell_type": "markdown",
   "metadata": {},
   "source": [
    "### 2) Split data into features and labels\n",
    "\n",
    "The data as shown above is not always the optimal shape. To help us keep track of things, we can split the data into its features and labels seperately.\n",
    "\n",
    "Each class is 4 features and 1 label in the same array: \n",
    "\n",
    "* **[feature 1, feature 2, feature 3, feature 4, label]**\n",
    "\n",
    "It would help us later to have the features and labels in seperate arrays in the form: \n",
    "\n",
    "* **[feature 1, feature 2, feature 3, feature 4]** and **[label]**\n",
    "\n",
    "Here you are going to implement this functionallity."
   ]
  },
  {
   "cell_type": "code",
   "execution_count": 8,
   "metadata": {},
   "outputs": [],
   "source": [
    "def class_split(data:np.ndarray) -> Tuple[Tuple[np.ndarray, np.ndarray], ...]:\n",
    "\n",
    "    class_splits = []\n",
    "    for label in np.unique(data[:, -1]):\n",
    "        class_data = data[data[:, -1] ==  label]\n",
    "        features = class_data[:, :-1].astype(np.float64)\n",
    "        labels = class_data[:, -1].astype(np.float64)\n",
    "        class_splits.append((features, labels))\n",
    "\n",
    "    return class_splits"
   ]
  },
  {
   "cell_type": "markdown",
   "metadata": {},
   "source": [
    "We should first test the \"**class_split**\" function on one of the classes above (iris_setosa, etc...) to make sure it works properly."
   ]
  },
  {
   "cell_type": "code",
   "execution_count": 9,
   "metadata": {},
   "outputs": [],
   "source": [
    "class_splits = class_split(train)\n",
    "X0_features, y0_labels = class_splits[1]"
   ]
  },
  {
   "cell_type": "markdown",
   "metadata": {},
   "source": [
    "We should also try to **1)** first split a class into a train and test set, **2)** split each of these two into features and abels. In total there should be 4 arrays (2 feature and 2 label arrays)."
   ]
  },
  {
   "cell_type": "code",
   "execution_count": 10,
   "metadata": {},
   "outputs": [
    {
     "name": "stdout",
     "output_type": "stream",
     "text": [
      "Feature | Type: float64 | Shape: (42, 4)\n",
      "Target | Type: float64 | Shape: (42,)\n"
     ]
    }
   ],
   "source": [
    "class_splits = class_split(train)\n",
    "X0_features, y0_labels = class_splits[0]\n",
    "print(f\"Feature | Type: {X0_features.dtype} | Shape: {X0_features.shape}\")\n",
    "print(f\"Target | Type: {y0_labels.dtype} | Shape: {y0_labels.shape}\")"
   ]
  },
  {
   "cell_type": "markdown",
   "metadata": {},
   "source": [
    "Think a bit before going to the next task, what can easily go wrong in the above code?"
   ]
  },
  {
   "cell_type": "markdown",
   "metadata": {},
   "source": [
    "## Naive Bayes learning algorithm"
   ]
  },
  {
   "cell_type": "markdown",
   "metadata": {},
   "source": [
    "When implementing the Navie Bayes learning algorithm, we can break it down into a few components.\n",
    "\n",
    "We will implement these components one at a time."
   ]
  },
  {
   "cell_type": "markdown",
   "metadata": {},
   "source": [
    "### 3) Calculate feature statistics\n",
    "\n",
    "First, we need to implement a function that returns feature statistics (means, standard deviation, priors) for a given set of feature data for a single class. This is the equivalent of \"training\" the naive bayes model.\n",
    "\n",
    "**Note 1:** Each feature gets its own mean and standard deviation!\n",
    "\n",
    "**Note 2:** The way you structure the functions (what is returned) shapes the remainder of the assignment."
   ]
  },
  {
   "cell_type": "code",
   "execution_count": 11,
   "metadata": {},
   "outputs": [
    {
     "name": "stdout",
     "output_type": "stream",
     "text": [
      "float64\n"
     ]
    }
   ],
   "source": [
    "print(X0_features.dtype)"
   ]
  },
  {
   "cell_type": "code",
   "execution_count": 12,
   "metadata": {},
   "outputs": [],
   "source": [
    "def calculate_prior(class_training_data, all_training_data):\n",
    "    return class_training_data.shape[0] / all_training_data.shape[0]"
   ]
  },
  {
   "cell_type": "code",
   "execution_count": 13,
   "metadata": {},
   "outputs": [],
   "source": [
    "def calculate_feature_statistics(feature_data: np.ndarray) -> Tuple[np.ndarray, np.ndarray]:\n",
    "    features_mean = np.mean(feature_data, axis=0)  \n",
    "    features_std = np.std(feature_data, axis=0)    \n",
    "    return features_mean, features_std"
   ]
  },
  {
   "cell_type": "code",
   "execution_count": 14,
   "metadata": {},
   "outputs": [],
   "source": [
    "means, stds = calculate_feature_statistics(X0_features)"
   ]
  },
  {
   "cell_type": "code",
   "execution_count": 15,
   "metadata": {},
   "outputs": [
    {
     "name": "stdout",
     "output_type": "stream",
     "text": [
      "float64\n"
     ]
    }
   ],
   "source": [
    "print(means.dtype)"
   ]
  },
  {
   "cell_type": "markdown",
   "metadata": {},
   "source": [
    "To make sure the function works, we should test it before proceding."
   ]
  },
  {
   "cell_type": "markdown",
   "metadata": {},
   "source": [
    "### 4) Gaussian probability density function (Gaussian PDF)\n",
    "\n",
    "Now we need to implement the gaussian probability density function to use for a single datapoint.\n",
    "\n",
    "**Note:** Look at the imports in the first cell at the top, it has some math numbers for easy use here. "
   ]
  },
  {
   "cell_type": "code",
   "execution_count": 16,
   "metadata": {},
   "outputs": [],
   "source": [
    "def gaussian_probability_density_function(x, means, stdevs):\n",
    "\n",
    "    if np.any(stdevs <= 0):\n",
    "        raise ValueError(\"Stand Deviation MUST be > 0\")\n",
    "\n",
    "    C =  1 / (stdevs * sqrt(2*pi))\n",
    "    exp = -0.5 * (((x - means) / (stdevs)) ** 2)\n",
    "    prob_density = C*e**(exp)\n",
    "    \n",
    "    return prob_density"
   ]
  },
  {
   "cell_type": "markdown",
   "metadata": {},
   "source": [
    "### 5) Testing Gaussian PDF"
   ]
  },
  {
   "cell_type": "markdown",
   "metadata": {},
   "source": [
    "We should test it to make sure it works. Train it, using the \"calculate_feature_statistics\" function, on one of the dataset classes. Then, take one datapoint from the same class and use naive bayes gaussian to make a prediction."
   ]
  },
  {
   "cell_type": "code",
   "execution_count": 17,
   "metadata": {},
   "outputs": [
    {
     "name": "stdout",
     "output_type": "stream",
     "text": [
      "Same Class datapoint:  [5.0 3.5 1.6 0.6 0]\n",
      "[1.1618748769908813 3.16804264633902e-05 3.2077200534376625e-23\n",
      " 3.5703729818493166e-38]\n",
      "4.215610008311821e-65\n"
     ]
    }
   ],
   "source": [
    "# TODO: Implement the code below to test the \"gaussian_probability_density_function\" function for one of the classes.\n",
    "means, stddevs = calculate_feature_statistics(X0_features)\n",
    "\n",
    "# TODO: Test with one datapoint from the learned class.\n",
    "# x = test[np.random.randint(test.shape[0])] # random\n",
    "y0_test = test[test[:,-1] == 0] # from same class, i.e., 0\n",
    "x = y0_test[np.random.randint(y0_test.shape[0])]\n",
    "print(\"Same Class datapoint: \", x)\n",
    "prob_density = gaussian_probability_density_function(x[:-1], means[x[-1]], stddevs[x[-1]])\n",
    "\n",
    "# TODO: Print the probability density\n",
    "print(prob_density)\n",
    "print(np.prod(prob_density))"
   ]
  },
  {
   "cell_type": "markdown",
   "metadata": {},
   "source": [
    "As a test, take one datapoint from one of the other classes and see if the predicted probability changes."
   ]
  },
  {
   "cell_type": "code",
   "execution_count": 18,
   "metadata": {},
   "outputs": [
    {
     "name": "stdout",
     "output_type": "stream",
     "text": [
      "Other Class datapoint:  [5.7 2.9 4.2 1.3 1]\n",
      "4.823610576380734e-38\n"
     ]
    }
   ],
   "source": [
    "# TODO: Take one datapoint from one of the other classes.\n",
    "y0_test = test[test[:,-1] != 0] # from same class, i.e., 0\n",
    "other_class_datapoint = y0_test[np.random.randint(y0_test.shape[0])]\n",
    "print(\"Other Class datapoint: \", other_class_datapoint)\n",
    "\n",
    "# TODO: Use naive bayes gaussian on this datapoint with the same feature statistics as the first class.\n",
    "prob_density = gaussian_probability_density_function(other_class_datapoint[:-1], means[x[-1]], stddevs[x[-1]])\n",
    "\n",
    "# TODO: Print the probability\n",
    "print(np.prod(prob_density))"
   ]
  },
  {
   "cell_type": "markdown",
   "metadata": {},
   "source": [
    "Think a bit why the probability changes, what could affect the prediction?"
   ]
  },
  {
   "cell_type": "markdown",
   "metadata": {},
   "source": [
    "- The feature probabilities given the target class, are rather stable between testpoints, given that the test point is choosen from the same class. Given that we have a flower, say, 'Iris-setosa', then each of the features generally tend to be alike between samples. One of them will dominate more than others. This domination will be similar for test points from the same type of flower, since the features varies in a similar way like for the training points, as they belong to the same flower. However, if we keep the same joint distribution but change the incoming datapoint, such that it belongs to another class and has other means/stddevs, then also will the feature distributions for each point vary more chaotically."
   ]
  },
  {
   "cell_type": "markdown",
   "metadata": {},
   "source": [
    "## Prepare Naive Bayes for binary classification"
   ]
  },
  {
   "cell_type": "markdown",
   "metadata": {},
   "source": [
    "### 6) Prepare the data for inference\n",
    "\n",
    "Before we train and test the naive bayes for multiple classes, we should get our data in order.\n",
    "\n",
    "Similar to how we did previously, we should now split two classes into a train and test set, you may choose which two classes freely."
   ]
  },
  {
   "cell_type": "code",
   "execution_count": 19,
   "metadata": {},
   "outputs": [],
   "source": [
    "# TODO: Split two classes into train and test sets.\n",
    "X0_features, y0_labels = class_splits[0]\n",
    "\n",
    "# TODO: Sepearte the features and lables for both the train and test set.\n",
    "X2_features, y2_labels = class_splits[2]"
   ]
  },
  {
   "cell_type": "markdown",
   "metadata": {},
   "source": [
    "### 7) Class A vs Class B for binary classification\n",
    "\n",
    "**Note:** You might need to go back and forth a bit in the following cells during your implementation of your code.\n",
    "\n",
    "We have to get the probability from two sets of classes and compare the two probabilities in order to make a propper prediction.\n",
    "\n",
    "Here we will implement two functions to make this possible. We seperate these functions to make the implementation of the ROC-curve easier later on.\n",
    "\n",
    "**Function 1: naive_bayes_prediction** \n",
    "* A function that returns the probabilities for each class the model for a single datapoint.\n",
    "\n",
    "**Function 2: probabilities_to_prediction**\n",
    "* A function that takes in probabilities and returns a prediction."
   ]
  },
  {
   "cell_type": "code",
   "execution_count": 161,
   "metadata": {},
   "outputs": [],
   "source": [
    "def probabilities_to_prediction(likelihoods):\n",
    "    return np.argmax(likelihoods), likelihoods[0]  "
   ]
  },
  {
   "cell_type": "code",
   "execution_count": 168,
   "metadata": {},
   "outputs": [],
   "source": [
    "def naive_bayes_prediction(feature_stats, data_point):\n",
    "\n",
    "    # TODO: Implement the rest of this function. Make use of previous functions that you have implemented.\n",
    "    # NOTE: Multiplying by P(Y) does not change the answer since each class has P(Y) = 1/3\n",
    "    prediction_likelihoods = []\n",
    "    for feature_set in feature_stats:\n",
    "        means, stddevs, prior = feature_set\n",
    "        prediction_likelihoods.append(np.prod(gaussian_probability_density_function(data_point, means, stddevs)) * prior)\n",
    "\n",
    "    # Normalize to get probabilities for each class\n",
    "    epsilon = 1e-10\n",
    "    probabilities = [max(likelihood / sum(prediction_likelihoods), epsilon) for likelihood in prediction_likelihoods]\n",
    "\n",
    "    # Note: We need to compare the probabilities at some point between the classes we test on, the predicted class should be the class with the highest probability.\n",
    "    return probabilities"
   ]
  },
  {
   "cell_type": "code",
   "execution_count": 129,
   "metadata": {},
   "outputs": [],
   "source": [
    "def predict_all(data):\n",
    "    # NOTE: The actual values are found in y_target\n",
    "    class_predictions = []\n",
    "    prob_of_class_predictions = []\n",
    "    class_actual_labels = []\n",
    "    feature_stats = []\n",
    "    \n",
    "    train, test = train_test_split(data)\n",
    "    test_class_splits = class_split(test)\n",
    "    train_class_splits = class_split(train)\n",
    "\n",
    "    # calculate feature stats\n",
    "    for y in np.unique(data[:,-1]):\n",
    "        train_class_split = train_class_splits[y]    \n",
    "        train_features, train_target =  train_class_split\n",
    "        means, stddevs = calculate_feature_statistics(train_features)\n",
    "        prior = calculate_prior(train_target, train)\n",
    "        feature_stats.append((means, stddevs, prior))\n",
    "\n",
    "    # input: feature stats and a training data\n",
    "    # output: naive-bayes accuracy\n",
    "    for y in np.unique(data[:,-1]):\n",
    "        test_class_split = test_class_splits[y]    \n",
    "        test_features, test_target =  test_class_split\n",
    "        class_actual_labels.extend(test_target)\n",
    "        for x in test_features:\n",
    "            probabilities = naive_bayes_prediction(feature_stats, x)\n",
    "            predicted_test_class, prob_of_class_prediction = probabilities_to_prediction(probabilities)\n",
    "            class_predictions.append(predicted_test_class)\n",
    "            prob_of_class_predictions.append(prob_of_class_prediction)\n",
    "\n",
    "    # accuracy\n",
    "    class_actual_labels = np.array(class_actual_labels).astype(np.float64)\n",
    "    class_predictions = np.array(class_predictions).astype(np.float64)\n",
    "    print('Accuracy', np.mean(class_actual_labels == class_predictions) * 100)\n",
    "    return class_actual_labels, class_predictions, prob_of_class_predictions"
   ]
  },
  {
   "cell_type": "code",
   "execution_count": 171,
   "metadata": {},
   "outputs": [
    {
     "name": "stdout",
     "output_type": "stream",
     "text": [
      "Accuracy 100.0\n",
      "[np.float64(1.0), np.float64(0.0), np.float64(0.0), np.float64(0.0), np.float64(0.0), np.float64(0.0), np.float64(0.0), np.float64(0.0), np.float64(0.0), np.float64(0.0), np.float64(0.0), np.float64(0.0), np.float64(0.0), np.float64(0.0), np.float64(0.0), np.float64(0.0), np.float64(0.0), np.float64(0.0), np.float64(0.0), np.float64(0.0), np.float64(0.0), np.float64(0.0), np.float64(0.0), np.float64(0.0), np.float64(0.0), np.float64(0.0), np.float64(0.0), np.float64(0.0), np.float64(0.0), np.float64(0.0), np.float64(0.0), np.float64(0.0), np.float64(0.0), np.float64(0.0), np.float64(0.0), np.float64(0.0), np.float64(0.0), np.float64(0.0), np.float64(0.0), np.float64(0.0), np.float64(0.0), np.float64(0.0), np.float64(0.0), np.float64(0.0), np.float64(0.0), np.float64(0.0), np.float64(0.0), np.float64(0.0), np.float64(0.0), np.float64(0.0), np.float64(0.0), np.float64(0.0), np.float64(0.0), np.float64(0.0), np.float64(0.0), np.float64(0.0), np.float64(0.0), np.float64(0.0), np.float64(0.0), np.float64(0.0), np.float64(0.0), np.float64(0.0), np.float64(0.0), np.float64(0.0), np.float64(0.0), np.float64(0.0), np.float64(0.0), np.float64(0.0), np.float64(0.0), np.float64(0.0), np.float64(0.0), np.float64(0.0), np.float64(0.0), np.float64(0.0), np.float64(0.0), np.float64(0.0), np.float64(0.0), np.float64(0.0), np.float64(0.0), np.float64(0.0), np.float64(0.0), np.float64(0.0), np.float64(0.0), np.float64(0.0), np.float64(0.0), np.float64(0.0), np.float64(0.0), np.float64(0.0), np.float64(0.0), np.float64(0.0), np.float64(0.0), np.float64(0.0), np.float64(0.0), np.float64(0.0), np.float64(0.0), np.float64(0.0), np.float64(0.0), np.float64(0.0), np.float64(0.0), np.float64(0.0), np.float64(0.0)]\n",
      "[np.float64(1.0), np.float64(1.0), np.float64(1.0), np.float64(1.0), np.float64(1.0), np.float64(1.0), np.float64(1.0), np.float64(1.0), np.float64(1.0), np.float64(1.0), np.float64(1.0), np.float64(1.0), np.float64(1.0), np.float64(1.0), np.float64(1.0), np.float64(1.0), np.float64(1.0), np.float64(1.0), np.float64(1.0), np.float64(1.0), np.float64(1.0), np.float64(1.0), np.float64(1.0), np.float64(1.0), np.float64(1.0), np.float64(1.0), np.float64(1.0), np.float64(1.0), np.float64(1.0), np.float64(1.0), np.float64(1.0), np.float64(1.0), np.float64(1.0), np.float64(1.0), np.float64(1.0), np.float64(1.0), np.float64(1.0), np.float64(1.0), np.float64(1.0), np.float64(1.0), np.float64(1.0), np.float64(1.0), np.float64(1.0), np.float64(1.0), np.float64(1.0), np.float64(1.0), np.float64(1.0), np.float64(1.0), np.float64(1.0), np.float64(1.0), np.float64(1.0), np.float64(1.0), np.float64(1.0), np.float64(1.0), np.float64(1.0), np.float64(1.0), np.float64(1.0), np.float64(1.0), np.float64(1.0), np.float64(1.0), np.float64(1.0), np.float64(1.0), np.float64(1.0), np.float64(1.0), np.float64(1.0), np.float64(1.0), np.float64(1.0), np.float64(1.0), np.float64(1.0), np.float64(1.0), np.float64(1.0), np.float64(1.0), np.float64(1.0), np.float64(1.0), np.float64(1.0), np.float64(1.0), np.float64(1.0), np.float64(1.0), np.float64(1.0), np.float64(1.0), np.float64(1.0), np.float64(1.0), np.float64(1.0), np.float64(1.0), np.float64(1.0), np.float64(1.0), np.float64(1.0), np.float64(1.0), np.float64(1.0), np.float64(1.0), np.float64(1.0), np.float64(1.0), np.float64(1.0), np.float64(1.0), np.float64(1.0), np.float64(1.0), np.float64(1.0), np.float64(1.0), np.float64(1.0), np.float64(1.0), np.float64(0.5)]\n"
     ]
    },
    {
     "data": {
      "image/png": "[encoded data removed]",
      "text/plain": [
       "<Figure size 640x480 with 1 Axes>"
      ]
     },
     "metadata": {},
     "output_type": "display_data"
    }
   ],
   "source": [
    "def predict_0_vs_1(data):\n",
    "    class_predictions = []\n",
    "    prob_of_class_predictions = []\n",
    "    class_actual_labels = []\n",
    "    feature_stats = []\n",
    "\n",
    "    train, test = train_test_split(data)\n",
    "    test_class_splits = class_split(test)\n",
    "    train_class_splits = class_split(train)\n",
    "\n",
    "    # calculate feature stats\n",
    "    for y in np.array([0,1]):\n",
    "        train_class_split = train_class_splits[y]    \n",
    "        train_features, train_target =  train_class_split\n",
    "        means, stddevs = calculate_feature_statistics(train_features)\n",
    "        prior = calculate_prior(train_target, train)\n",
    "        feature_stats.append((means, stddevs, prior))\n",
    "\n",
    "    # input: feature stats and a training data\n",
    "    # output: naive-bayes accuracy\n",
    "    for y in np.array([0,1]):\n",
    "        test_class_split = test_class_splits[y]    \n",
    "        test_features, test_target =  test_class_split\n",
    "        class_actual_labels.extend(test_target)\n",
    "        for x in test_features:\n",
    "            probabilities = naive_bayes_prediction(feature_stats, x)\n",
    "            predicted_test_class, prob_of_class_prediction = probabilities_to_prediction(probabilities)\n",
    "            class_predictions.append(predicted_test_class)\n",
    "            prob_of_class_predictions.append(prob_of_class_prediction)\n",
    "\n",
    "    # accuracy\n",
    "    class_actual_labels = np.array(class_actual_labels).astype(np.float64)\n",
    "    class_predictions = np.array(class_predictions).astype(np.float64)\n",
    "    print('Accuracy', np.mean(class_actual_labels == class_predictions) * 100)\n",
    "    return class_actual_labels, prob_of_class_predictions\n",
    "\n",
    "class_actual_labels, prob_of_class_predictions = predict_0_vs_1(data)\n",
    "\n",
    "\n",
    "def roc_curve_0_vs_1(class_actual_labels, prob_of_class_predictions):\n",
    "    step_size = 0.01\n",
    "    cs = np.arange(0, 1 + step_size, step=step_size)\n",
    "\n",
    "    TPR_01, FPR_01 = [], []\n",
    "\n",
    "    for c in cs:\n",
    "        y_pred_01 = (prob_of_class_predictions >= c).astype(int)\n",
    "        TP_01 = np.sum((class_actual_labels == 1) & (y_pred_01 == 1))\n",
    "        FP_01 = np.sum((class_actual_labels == 0) & (y_pred_01 == 1))\n",
    "        TN_01 = np.sum((class_actual_labels == 0) & (y_pred_01 == 0))\n",
    "        FN_01 = np.sum((class_actual_labels == 1) & (y_pred_01 == 0))\n",
    "        TPR_01.append(TP_01 / (TP_01 + FN_01))\n",
    "        FPR_01.append(FP_01 / (FP_01 + TN_01))\n",
    "    \n",
    "    print(TPR_01)\n",
    "    print(FPR_01)\n",
    "\n",
    "    plt.plot(cs, cs, color='k', ls='--', lw='1')\n",
    "    plt.plot(FPR_01, TPR_01, color='r', ls='-', lw='1')\n",
    "    plt.xlabel('FPR')\n",
    "    plt.ylabel('TPR')\n",
    "    plt.title(r\"ROC CURVE: $0$ $vs$. $1$\", fontsize=16, fontweight='bold')\n",
    "    plt.grid(True)\n",
    "\n",
    "roc_curve_0_vs_1(class_actual_labels, prob_of_class_predictions)"
   ]
  },
  {
   "cell_type": "markdown",
   "metadata": {},
   "source": [
    "## ROC-curve\n",
    "\n",
    "A ROC curve, or *Receiver Operating Characteristic curve*, is a graphical plot that illustrates the performance of a binary classifier such as our Naive Bayes model.\n",
    "\n",
    "More info can be found in the course material and here: [https://en.wikipedia.org/wiki/Receiver_operating_characteristic](https://en.wikipedia.org/wiki/Receiver_operating_characteristic)\n",
    "\n",
    "Another good illustration by Google can be found here: [https://developers.google.com/machine-learning/crash-course/classification/roc-and-auc](https://developers.google.com/machine-learning/crash-course/classification/roc-and-auc)\n",
    "\n",
    "Now that we have a prediction model, we would want to try it out and test it using a ROC-curve."
   ]
  },
  {
   "cell_type": "markdown",
   "metadata": {},
   "source": [
    "- MAHMUTS COMMENT: You want to fine the point in the graph which enables you to have as large TPR (a high fraction of true positive rates correctly classified) as possible whilst keeping the FPR as low as possible (the fraction or negative points incorrectly classified as negative)"
   ]
  },
  {
   "cell_type": "code",
   "execution_count": 131,
   "metadata": {},
   "outputs": [],
   "source": [
    "def roc_curve_all(data_1_vs_REST, data_2_vs_REST, data_3_vs_REST):\n",
    "    step_size = 0.01\n",
    "    cs = np.arange(0, 1 + step_size, step=step_size)\n",
    "\n",
    "    y_true_AB = np.array(data_1_vs_REST['Actual'])\n",
    "    y_true_AC = np.array(data_2_vs_REST['Actual'])\n",
    "    y_true_BC = np.array(data_3_vs_REST['Actual'])\n",
    "\n",
    "    y_prob_AB = np.array(data_1_vs_REST['Probability'])\n",
    "    y_prob_AC = np.array(data_2_vs_REST['Probability'])\n",
    "    y_prob_BC = np.array(data_3_vs_REST['Probability'])\n",
    "\n",
    "    TPR_AB, FPR_AB = [], []\n",
    "    TPR_AC, FPR_AC = [], []\n",
    "    TPR_BC, FPR_BC = [], []\n",
    "\n",
    "    for c in cs:\n",
    "        y_pred_AB = (y_prob_AB >= c).astype(int)\n",
    "        y_pred_AC = (y_prob_AC >= c).astype(int)\n",
    "        y_pred_BC = (y_prob_BC >= c).astype(int)\n",
    "\n",
    "        TP_AB = np.sum((y_true_AB == 1) & (y_pred_AB == 1))\n",
    "        TP_AC = np.sum((y_true_AC == 1) & (y_pred_AC == 1))\n",
    "        TP_BC = np.sum((y_true_BC == 1) & (y_pred_BC == 1))\n",
    "        FP_AB = np.sum((y_true_AB == 0) & (y_pred_AB == 1))\n",
    "        FP_AC = np.sum((y_true_AC == 0) & (y_pred_AC == 1))\n",
    "        FP_BC = np.sum((y_true_BC == 0) & (y_pred_BC == 1))\n",
    "        TN_AB = np.sum((y_true_AB == 0) & (y_pred_AB == 0))\n",
    "        TN_AC = np.sum((y_true_AC == 0) & (y_pred_AC == 0))\n",
    "        TN_BC = np.sum((y_true_BC == 0) & (y_pred_BC == 0))\n",
    "        FN_AB = np.sum((y_true_AB == 1) & (y_pred_AB == 0))\n",
    "        FN_AC = np.sum((y_true_AC == 1) & (y_pred_AC == 0))\n",
    "        FN_BC = np.sum((y_true_BC == 1) & (y_pred_BC == 0))\n",
    "\n",
    "        TPR_AB.append(TP_AB / (TP_AB + FN_AB))\n",
    "        TPR_AC.append(TP_AC / (TP_AC + FN_AC))\n",
    "        TPR_BC.append(TP_BC / (TP_BC + FN_BC))\n",
    "\n",
    "        FPR_AB.append(FP_AB / (FP_AB + TN_AB))\n",
    "        FPR_AC.append(FP_AC / (FP_AC + TN_AC))\n",
    "        FPR_BC.append(FP_BC / (FP_BC + TN_BC))\n",
    "    \n",
    "    _, img = plt.subplots(1, 3, figsize=(15, 5)) \n",
    "\n",
    "    img[0].plot(cs, cs, color='k', ls='--', lw='1')\n",
    "    img[0].plot(FPR_AB, TPR_AB, color='r', ls='-', lw='1')\n",
    "    img[0].set_xlabel('FPR')\n",
    "    img[0].set_ylabel('TPR')\n",
    "    img[0].set_title(r\"ROC CURVE: $A$ $vs$. $REST$\", fontsize=16, fontweight='bold')\n",
    "    img[0].grid(True)\n",
    "\n",
    "    img[1].plot(cs, cs, color='k', ls='--', lw='1')\n",
    "    img[1].plot(FPR_AC, TPR_AC, color='r', ls='-', lw='1')\n",
    "    img[1].set_xlabel('FPR')\n",
    "    img[1].set_ylabel('TPR')\n",
    "    img[1].set_title(r\"ROC CURVE: $B$ $vs$. $REST$\", fontsize=16, fontweight='bold')\n",
    "    img[1].grid(True)\n",
    "\n",
    "    img[2].plot(cs, cs, color='k', ls='--', lw='1')\n",
    "    img[2].plot(FPR_BC, TPR_BC, color='r', ls='-', lw='1')\n",
    "    img[2].set_xlabel('FPR')\n",
    "    img[2].set_ylabel('TPR')\n",
    "    img[2].set_title(r\"ROC CURVE: $C$ $vs$. $REST$\", fontsize=16, fontweight='bold')\n",
    "    img[2].grid(True)"
   ]
  },
  {
   "cell_type": "code",
   "execution_count": 136,
   "metadata": {},
   "outputs": [],
   "source": [
    "def softmax(arr: np.ndarray) -> np.array:\n",
    "    num = e**np.array(arr)\n",
    "    den = np.sum(e**np.array(arr))\n",
    "    return num / den\n",
    "\n",
    "def probabilities_to_prediction(likelihoods):\n",
    "    # TODO: Implement prediction of the class with the highest likelihood\n",
    "    return np.argmax(likelihoods), np.max(softmax(likelihoods))"
   ]
  },
  {
   "cell_type": "code",
   "execution_count": 135,
   "metadata": {},
   "outputs": [
    {
     "name": "stdout",
     "output_type": "stream",
     "text": [
      "Accuracy 96.66666666666667\n"
     ]
    },
    {
     "data": {
      "image/png": "[encoded data removed]",
      "text/plain": [
       "<Figure size 1500x500 with 3 Axes>"
      ]
     },
     "metadata": {},
     "output_type": "display_data"
    }
   ],
   "source": [
    "class_actual_labels, class_predictions, prob_of_class_predictions =  predict_all(data)\n",
    "bayes_all_classes = pd.DataFrame({'Actual': class_actual_labels, 'Bayes_Predicted': class_predictions, 'Probability': prob_of_class_predictions})\n",
    "data_1_vs_REST = bayes_all_classes.sort_values(by='Probability', axis=0, ascending=False).drop('Bayes_Predicted', axis=1).replace({0:1, 1:0, 2:0})\n",
    "data_2_vs_REST = bayes_all_classes.sort_values(by='Probability', axis=0, ascending=False).drop('Bayes_Predicted', axis=1).replace({0:0, 1:1, 2:0})\n",
    "data_3_vs_REST = bayes_all_classes.sort_values(by='Probability', axis=0, ascending=False).drop('Bayes_Predicted', axis=1).replace({0:0, 1:0, 2:1})\n",
    "roc_curve_all(data_1_vs_REST, data_2_vs_REST, data_3_vs_REST)"
   ]
  },
  {
   "cell_type": "markdown",
   "metadata": {},
   "source": [
    "### 8) True Positive Rate (TPR) and False Positive Rate (FPR)\n",
    "\n",
    "From our prediction function we get probabilities, and for prediction purposes we have just predicted the one with the highest probability.\n",
    "\n",
    "To plot a ROC-curve, we need the TPR and FPR for the binary classification. We will implement this here.\n",
    "\n",
    "**Note 1:** The threshold is is a value that goes from 0 to 1. \n",
    "\n",
    "**Note 2:** One of the two classes will be seen as \"the positive class\" (prediction over the threshold) and the other as \"the negative class\" (prediction under the threshold).\n",
    "\n",
    "**Note 3:** The threshold stepsize will decide the size of the returned TPR/FPR list. A value of 0.1 will give 10 elements (0 to 1 in increments of 0.1)"
   ]
  },
  {
   "cell_type": "code",
   "execution_count": 28,
   "metadata": {},
   "outputs": [
    {
     "name": "stdout",
     "output_type": "stream",
     "text": [
      "Python list: [0.0, 0.1, 0.2, 0.3, 0.4, 0.5, 0.6, 0.7, 0.8, 0.9]\n",
      "Numpy linspace: [0.  0.1 0.2 0.3 0.4 0.5 0.6 0.7 0.8 0.9 1. ]\n",
      "Numpy linspace (no endpoint): [0.  0.1 0.2 0.3 0.4 0.5 0.6 0.7 0.8 0.9]\n"
     ]
    }
   ],
   "source": [
    "# Stepsize demonstration\n",
    "print(\"Python list:\", [x/10 for x in range(0,10,1)])\n",
    "\n",
    "# Stepsize demonstration with numpy:\n",
    "print(\"Numpy linspace:\", np.linspace(0,1,11))\n",
    "print(\"Numpy linspace (no endpoint):\", np.linspace(0,1,10,endpoint=False))"
   ]
  },
  {
   "cell_type": "code",
   "execution_count": 30,
   "metadata": {},
   "outputs": [],
   "source": [
    "def TPR_and_FPR(prediction_probabilities, test_labels, threshold_stepsize = 0.1):\n",
    "\n",
    "    # TODO: Implement the rest of this function\n",
    "\n",
    "\n",
    "    return TPR, FPR"
   ]
  },
  {
   "cell_type": "code",
   "execution_count": 27,
   "metadata": {},
   "outputs": [],
   "source": [
    "# TODO: Test the \"TPR_and_FPR\" function on the model you have created previously."
   ]
  },
  {
   "cell_type": "markdown",
   "metadata": {},
   "source": [
    "How does the values change if you change the threshold stepsize? \n",
    "\n",
    "How does the values change if you change the classes you compare?"
   ]
  },
  {
   "cell_type": "markdown",
   "metadata": {},
   "source": [
    "### 9) Plot the TPR and FPR\n",
    "\n",
    "To better see what is going on, we can plot the TPR and FPR. We can also calculate the Area Under the ROC Curve (AUC or AUROC) at the same time."
   ]
  },
  {
   "cell_type": "code",
   "execution_count": 28,
   "metadata": {},
   "outputs": [],
   "source": [
    "def plot_ROC(TPR, FPR):\n",
    "\n",
    "    # TODO: Calculate the AUC score.\n",
    "\n",
    "    # TODO: Plot the TPR and FPR using plt (matplotlib)\n",
    "\n",
    "    # TODO: Add a \"middle-line\" in the plot. This can be seen as the \"better/worse than random\" line.\n",
    "\n",
    "    plt.plot(...)\n",
    "\n",
    "    plt.show()\n",
    "\n",
    "    pass # No need to return anything, remove this line once you are finished implementing."
   ]
  },
  {
   "cell_type": "code",
   "execution_count": 29,
   "metadata": {},
   "outputs": [],
   "source": [
    "# TODO: Test the plotting function on the TPR and FPR you just calculated."
   ]
  },
  {
   "cell_type": "markdown",
   "metadata": {},
   "source": [
    "## Cross-validation\n",
    "\n",
    "The final task is to take everything you have implemented so far and apply it in a cross-validation loop.\n",
    "\n",
    "**Note 1:** To better reflect a real scenarios, you should shuffle the data before doing cross-validation.\n",
    "\n",
    "**Note 2:** When using cross-validation, the interesting thing is the mean performance (mean AUC, mean accuracy, mean ROC-curve).\n",
    "\n",
    "**Note 3:** This part is a bit more free in terms of implementation, but make sure to use some of the previously implemented functions."
   ]
  },
  {
   "cell_type": "markdown",
   "metadata": {},
   "source": [
    "### 10) Cross-validation loop"
   ]
  },
  {
   "cell_type": "code",
   "execution_count": 30,
   "metadata": {},
   "outputs": [],
   "source": [
    "def cross_validation(data, target, folds = 10, threshold_stepsize = 0.1):\n",
    "\n",
    "    # TODO: Implement Cross-validation\n",
    "    \n",
    "    for i in range(folds):\n",
    "\n",
    "\n",
    "        ...\n",
    "\n",
    "    # TODO: Plot the average ROC-curve.\n",
    "    # NOTE: Take the correct average!\n",
    "\n",
    "    plot_ROC(...)"
   ]
  },
  {
   "cell_type": "markdown",
   "metadata": {},
   "source": [
    "### 11) 10-fold Cross-validation on all classes\n",
    "\n",
    "Test the \"cross_validation\" function on all the classes against eachother using 10 folds.\n",
    "\n",
    "* Iris-setosa vs Iris-versicolor\n",
    "* Iris-setosa vs Iris-virginica\n",
    "* Iris-versicolor vs Iris-virginica"
   ]
  },
  {
   "cell_type": "code",
   "execution_count": 31,
   "metadata": {},
   "outputs": [],
   "source": [
    "# TODO: Implement and test cross-validation function on all classes."
   ]
  },
  {
   "cell_type": "code",
   "execution_count": 32,
   "metadata": {},
   "outputs": [],
   "source": [
    "# TODO: Implement and test cross-validation function on all classes."
   ]
  },
  {
   "cell_type": "code",
   "execution_count": 33,
   "metadata": {},
   "outputs": [],
   "source": [
    "# TODO: Implement and test cross-validation function on all classes."
   ]
  },
  {
   "cell_type": "markdown",
   "metadata": {},
   "source": [
    "# Questions for examination:\n",
    "\n",
    "In addition to completing the assignment with all its tasks, you should also prepare to answer the following questions:\n",
    "\n",
    "1) Why is it called \"naive bayes\"?\n",
    "\n",
    "2) What are some downsides of the naive bayes learning algorithm?\n",
    "\n",
    "3) When using ROC-curves, what is the theoretical best and worst result you can get?\n",
    "\n",
    "4) When using ROC-curves, in this assignment for example, is a higher threshold-stepsize always better?  \n",
    "\n",
    "5) When using cross-validation and ROC-curves, why is it important to take the correct mean values? What could go wrong?\n"
   ]
  },
  {
   "cell_type": "markdown",
   "metadata": {},
   "source": [
    "# Finished!\n",
    "\n",
    "Was part of the setup incorrect? Did you spot any inconsistencies in the assignment? Could something improve?\n",
    "\n",
    "If so, please write them and send via email and send it to:\n",
    "\n",
    "* marcus.gullstrand@ju.se\n",
    "\n",
    "Thank you!"
   ]
  }
 ],
 "metadata": {
  "kernelspec": {
   "display_name": "ml",
   "language": "python",
   "name": "python3"
  },
  "language_info": {
   "codemirror_mode": {
    "name": "ipython",
    "version": 3
   },
   "file_extension": ".py",
   "mimetype": "text/x-python",
   "name": "python",
   "nbconvert_exporter": "python",
   "pygments_lexer": "ipython3",
   "version": "3.11.9"
  }
 },
 "nbformat": 4,
 "nbformat_minor": 2
}
